{
  "nbformat": 4,
  "nbformat_minor": 0,
  "metadata": {
    "colab": {
      "name": "Apache Arrow Installation & Basics.ipynb",
      "provenance": [],
      "authorship_tag": "ABX9TyOSiZvGRJVjHA11lW9jRI+l",
      "include_colab_link": true
    },
    "kernelspec": {
      "name": "python3",
      "display_name": "Python 3"
    },
    "language_info": {
      "name": "python"
    }
  },
  "cells": [
    {
      "cell_type": "markdown",
      "metadata": {
        "id": "view-in-github",
        "colab_type": "text"
      },
      "source": [
        "<a href=\"https://colab.research.google.com/github/revendrat/Big-Data-Analytics/blob/main/Apache_Arrow_Installation_%26_Basics.ipynb\" target=\"_parent\"><img src=\"https://colab.research.google.com/assets/colab-badge.svg\" alt=\"Open In Colab\"/></a>"
      ]
    },
    {
      "cell_type": "markdown",
      "source": [
        "Install Apache Arrow on Colab using the command shared below"
      ],
      "metadata": {
        "id": "04i7QjWVL9SO"
      }
    },
    {
      "cell_type": "code",
      "execution_count": null,
      "metadata": {
        "colab": {
          "base_uri": "https://localhost:8080/",
          "height": 278
        },
        "id": "lObd2v7DLblo",
        "outputId": "3ab2d93b-7519-444f-cfae-d61c8021236f"
      },
      "outputs": [
        {
          "output_type": "stream",
          "name": "stdout",
          "text": [
            "Collecting pyarrow==6.0.*\n",
            "  Downloading pyarrow-6.0.1-cp37-cp37m-manylinux_2_17_x86_64.manylinux2014_x86_64.whl (25.6 MB)\n",
            "\u001b[K     |████████████████████████████████| 25.6 MB 1.7 MB/s \n",
            "\u001b[?25hRequirement already satisfied: numpy>=1.16.6 in /usr/local/lib/python3.7/dist-packages (from pyarrow==6.0.*) (1.19.5)\n",
            "Installing collected packages: pyarrow\n",
            "  Attempting uninstall: pyarrow\n",
            "    Found existing installation: pyarrow 3.0.0\n",
            "    Uninstalling pyarrow-3.0.0:\n",
            "      Successfully uninstalled pyarrow-3.0.0\n",
            "Successfully installed pyarrow-6.0.1\n"
          ]
        },
        {
          "output_type": "display_data",
          "data": {
            "application/vnd.colab-display-data+json": {
              "pip_warning": {
                "packages": [
                  "pyarrow"
                ]
              }
            }
          },
          "metadata": {}
        }
      ],
      "source": [
        "pip install pyarrow==6.0.*"
      ]
    },
    {
      "cell_type": "markdown",
      "source": [
        "**Creating Arrays and Tables**\n",
        " \n",
        "*   Arrays in Arrow are collections of data of uniform type.\n",
        "*   Arrays format leads to the best performing implementation to store the data and perform computations on it. \n",
        "* Each array has data and a type"
      ],
      "metadata": {
        "id": "Tz2BFKkpTmJI"
      }
    },
    {
      "cell_type": "code",
      "source": [
        "\n",
        "import pyarrow as pa\n",
        "\n",
        "# check pyarrow version\n",
        "#pyarrow.__version__"
      ],
      "metadata": {
        "id": "rasqPorJL0Xh"
      },
      "execution_count": 2,
      "outputs": []
    },
    {
      "cell_type": "code",
      "source": [
        "# Create a pyarrow array days\n",
        "days = pa.array([1, 12, 17, 23, 28], type=pa.int8())\n",
        "# Create a pyarrow array months\n",
        "months = pa.array([1, 3, 5, 7, 1], type=pa.int8())\n",
        "# Create a pyarrow array years\n",
        "years = pa.array([1990, 2000, 1995, 2000, 1995], type=pa.int16())\n",
        "\n",
        "# From pyarrow arrays days, months & years, create pyarrow table birthdays_table\n",
        "birthdays_table = pa.table([days, months, years], names=[\"days\", \"months\", \"years\"])"
      ],
      "metadata": {
        "id": "fv_GAhBqflag"
      },
      "execution_count": 3,
      "outputs": []
    },
    {
      "cell_type": "code",
      "source": [
        "# View the pyarrow table birthdays_table\n",
        "birthdays_table"
      ],
      "metadata": {
        "colab": {
          "base_uri": "https://localhost:8080/"
        },
        "id": "V5e-joYxUTc_",
        "outputId": "022a93c7-dab3-43e7-c91f-c39a411148d9"
      },
      "execution_count": 4,
      "outputs": [
        {
          "output_type": "execute_result",
          "data": {
            "text/plain": [
              "pyarrow.Table\n",
              "days: int8\n",
              "months: int8\n",
              "years: int16"
            ]
          },
          "metadata": {},
          "execution_count": 4
        }
      ]
    },
    {
      "cell_type": "markdown",
      "source": [
        "## View each column using syntax similar to pandas dataframe"
      ],
      "metadata": {
        "id": "VnY0ZpGRU0er"
      }
    },
    {
      "cell_type": "code",
      "source": [
        "# view days\n",
        "birthdays_table['days']"
      ],
      "metadata": {
        "colab": {
          "base_uri": "https://localhost:8080/"
        },
        "id": "iYSy6mz7Uctn",
        "outputId": "cafccac4-dd53-4812-e766-c057ba7e5e3b"
      },
      "execution_count": 4,
      "outputs": [
        {
          "output_type": "execute_result",
          "data": {
            "text/plain": [
              "<pyarrow.lib.ChunkedArray object at 0x7f27ff6a4dd0>\n",
              "[\n",
              "  [\n",
              "    1,\n",
              "    12,\n",
              "    17,\n",
              "    23,\n",
              "    28\n",
              "  ]\n",
              "]"
            ]
          },
          "metadata": {},
          "execution_count": 4
        }
      ]
    },
    {
      "cell_type": "code",
      "source": [
        "# view months\n",
        "birthdays_table['months']"
      ],
      "metadata": {
        "colab": {
          "base_uri": "https://localhost:8080/"
        },
        "id": "MlH-3J9gUmSr",
        "outputId": "bac666e9-5044-4b35-cec2-2159f1cabaef"
      },
      "execution_count": 5,
      "outputs": [
        {
          "output_type": "execute_result",
          "data": {
            "text/plain": [
              "<pyarrow.lib.ChunkedArray object at 0x7f27ff6506b0>\n",
              "[\n",
              "  [\n",
              "    1,\n",
              "    3,\n",
              "    5,\n",
              "    7,\n",
              "    1\n",
              "  ]\n",
              "]"
            ]
          },
          "metadata": {},
          "execution_count": 5
        }
      ]
    },
    {
      "cell_type": "code",
      "source": [
        "# view years\n",
        "birthdays_table['years']"
      ],
      "metadata": {
        "colab": {
          "base_uri": "https://localhost:8080/"
        },
        "id": "JJWaW8TUUtMC",
        "outputId": "4f426904-3fe7-4357-de6d-4224556ddecd"
      },
      "execution_count": 6,
      "outputs": [
        {
          "output_type": "execute_result",
          "data": {
            "text/plain": [
              "<pyarrow.lib.ChunkedArray object at 0x7f27ff6a4fb0>\n",
              "[\n",
              "  [\n",
              "    1990,\n",
              "    2000,\n",
              "    1995,\n",
              "    2000,\n",
              "    1995\n",
              "  ]\n",
              "]"
            ]
          },
          "metadata": {},
          "execution_count": 6
        }
      ]
    },
    {
      "cell_type": "code",
      "source": [
        "\n"
      ],
      "metadata": {
        "id": "rqq-Gg9zfj7l"
      },
      "execution_count": null,
      "outputs": []
    },
    {
      "cell_type": "markdown",
      "source": [
        "## Saving and Loading Tables\n",
        "Parquet is a data formats"
      ],
      "metadata": {
        "id": "M74Qi5O5sgNi"
      }
    },
    {
      "cell_type": "code",
      "source": [
        "import pyarrow.parquet as pq\n",
        "\n",
        "pq.write_table(birthdays_table, 'birthdays.parquet')"
      ],
      "metadata": {
        "id": "_IQEX_yAUxAe"
      },
      "execution_count": 5,
      "outputs": []
    },
    {
      "cell_type": "markdown",
      "source": [
        "* The data of birthdays_table is on disk, load it back using a single function call.\n",
        "* Arrow is heavily optimized for memory and speed so loading data will be as quick as possible"
      ],
      "metadata": {
        "id": "RpShnMGRvc1V"
      }
    },
    {
      "cell_type": "code",
      "source": [
        "reloaded_birthdays = pq.read_table('birthdays.parquet')\n",
        "\n",
        "reloaded_birthdays"
      ],
      "metadata": {
        "colab": {
          "base_uri": "https://localhost:8080/"
        },
        "id": "JDlhLPqQvZux",
        "outputId": "648900c0-8b63-4866-a64d-e3bf94176921"
      },
      "execution_count": 6,
      "outputs": [
        {
          "output_type": "execute_result",
          "data": {
            "text/plain": [
              "pyarrow.Table\n",
              "days: int8\n",
              "months: int8\n",
              "years: int16"
            ]
          },
          "metadata": {},
          "execution_count": 6
        }
      ]
    },
    {
      "cell_type": "markdown",
      "source": [
        "## Computations\n",
        "* perform computations using pyarrow.compute module\n",
        "* compute functions are applied for performing transformations to the data"
      ],
      "metadata": {
        "id": "myCqwkg3xRLO"
      }
    },
    {
      "cell_type": "code",
      "source": [
        "# Calculate the count of number of years\n",
        "import pyarrow.compute as pc\n",
        "\n",
        "pc.value_counts(birthdays_table[\"years\"])"
      ],
      "metadata": {
        "colab": {
          "base_uri": "https://localhost:8080/"
        },
        "id": "LGhwDdsyv5E4",
        "outputId": "ba161dc1-e476-46dd-f22b-28275376fc1f"
      },
      "execution_count": 7,
      "outputs": [
        {
          "output_type": "execute_result",
          "data": {
            "text/plain": [
              "<pyarrow.lib.StructArray object at 0x7f72d2db3440>\n",
              "-- is_valid: all not null\n",
              "-- child 0 type: int16\n",
              "  [\n",
              "    1990,\n",
              "    2000,\n",
              "    1995\n",
              "  ]\n",
              "-- child 1 type: int64\n",
              "  [\n",
              "    1,\n",
              "    2,\n",
              "    2\n",
              "  ]"
            ]
          },
          "metadata": {},
          "execution_count": 7
        }
      ]
    },
    {
      "cell_type": "code",
      "source": [
        ""
      ],
      "metadata": {
        "id": "0OSja3pux2oG"
      },
      "execution_count": null,
      "outputs": []
    }
  ]
}