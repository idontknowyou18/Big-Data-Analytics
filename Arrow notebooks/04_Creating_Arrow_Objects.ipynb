{
  "nbformat": 4,
  "nbformat_minor": 0,
  "metadata": {
    "colab": {
      "name": "04 Creating Arrow Objects.ipynb",
      "provenance": [],
      "authorship_tag": "ABX9TyMzSX/RjTESGZrm76uvVEFc",
      "include_colab_link": true
    },
    "kernelspec": {
      "name": "python3",
      "display_name": "Python 3"
    },
    "language_info": {
      "name": "python"
    }
  },
  "cells": [
    {
      "cell_type": "markdown",
      "metadata": {
        "id": "view-in-github",
        "colab_type": "text"
      },
      "source": [
        "<a href=\"https://colab.research.google.com/github/revendrat/Big-Data-Analytics/blob/main/04_Creating_Arrow_Objects.ipynb\" target=\"_parent\"><img src=\"https://colab.research.google.com/assets/colab-badge.svg\" alt=\"Open In Colab\"/></a>"
      ]
    },
    {
      "cell_type": "markdown",
      "source": [
        "## Create following objects in arrow\n",
        "* Arrays\n",
        "* Tables\n",
        "* Table from Plain Types\n",
        "* Record Batches\n",
        "* Store Categorical Data"
      ],
      "metadata": {
        "id": "sqho7SWo-BTU"
      }
    },
    {
      "cell_type": "markdown",
      "source": [
        "## Creating Arrays\n",
        "* Data in Arrow is in form of continuous arrays optimised for memory footprint and SIMD analyses. \n",
        "* In Python it’s possible to build pyarrow.Array starting from Python lists (or sequence types in general), numpy arrays and pandas Series.\n",
        "* Create array using pyarrow.array()"
      ],
      "metadata": {
        "id": "3o1LcnBf-N8R"
      }
    },
    {
      "cell_type": "code",
      "execution_count": 1,
      "metadata": {
        "id": "CBuJ4Gck9qQP"
      },
      "outputs": [],
      "source": [
        "import pyarrow as pa\n",
        "\n",
        "array = pa.array([1, 2, 3, 4, 5])"
      ]
    },
    {
      "cell_type": "code",
      "source": [
        "array"
      ],
      "metadata": {
        "colab": {
          "base_uri": "https://localhost:8080/"
        },
        "id": "NsMof0fZ-_wv",
        "outputId": "fcad1203-6dd3-49a3-fb90-22a06c81193a"
      },
      "execution_count": 2,
      "outputs": [
        {
          "output_type": "execute_result",
          "data": {
            "text/plain": [
              "<pyarrow.lib.Int64Array object at 0x7f17d4e0f7c0>\n",
              "[\n",
              "  1,\n",
              "  2,\n",
              "  3,\n",
              "  4,\n",
              "  5\n",
              "]"
            ]
          },
          "metadata": {},
          "execution_count": 2
        }
      ]
    },
    {
      "cell_type": "code",
      "source": [
        "print(array)"
      ],
      "metadata": {
        "colab": {
          "base_uri": "https://localhost:8080/"
        },
        "id": "ohNqTc1s_ATR",
        "outputId": "f4f43250-8276-482c-a76c-9008c420d94f"
      },
      "execution_count": 3,
      "outputs": [
        {
          "output_type": "stream",
          "name": "stdout",
          "text": [
            "[\n",
            "  1,\n",
            "  2,\n",
            "  3,\n",
            "  4,\n",
            "  5\n",
            "]\n"
          ]
        }
      ]
    },
    {
      "cell_type": "markdown",
      "source": [
        "## Masking for null values\n",
        "* Arrow provides a mask feature for arrays  to specify which values should be considered nulls\n",
        "Illustration below:"
      ],
      "metadata": {
        "id": "_9eO2-8gAI8S"
      }
    },
    {
      "cell_type": "code",
      "source": [
        "import numpy as np\n",
        "\n",
        "array_masked = pa.array([1, 2, 3, 4, 5],\n",
        "                 mask=np.array([True, False, True, False, True]))\n",
        "array_masked"
      ],
      "metadata": {
        "colab": {
          "base_uri": "https://localhost:8080/"
        },
        "id": "tvcz6r8u_BMn",
        "outputId": "844acaae-243c-4f44-c45c-6eb3b8c4c57c"
      },
      "execution_count": 4,
      "outputs": [
        {
          "output_type": "execute_result",
          "data": {
            "text/plain": [
              "<pyarrow.lib.Int64Array object at 0x7f17d3bae2f0>\n",
              "[\n",
              "  null,\n",
              "  2,\n",
              "  null,\n",
              "  4,\n",
              "  null\n",
              "]"
            ]
          },
          "metadata": {},
          "execution_count": 4
        }
      ]
    },
    {
      "cell_type": "code",
      "source": [
        "print(array_masked)"
      ],
      "metadata": {
        "colab": {
          "base_uri": "https://localhost:8080/"
        },
        "id": "ePOZj8UiAYy1",
        "outputId": "55bd1b3b-aee9-40d4-e1c0-4048549d83d2"
      },
      "execution_count": 5,
      "outputs": [
        {
          "output_type": "stream",
          "name": "stdout",
          "text": [
            "[\n",
            "  null,\n",
            "  2,\n",
            "  null,\n",
            "  4,\n",
            "  null\n",
            "]\n"
          ]
        }
      ]
    },
    {
      "cell_type": "markdown",
      "source": [
        "## Numpy & Pandas Integration\n",
        "* Arrow provides optimised integration to build arrays from numpy or pandas <br/>\n",
        "Illustration below: "
      ],
      "metadata": {
        "id": "G_sezZ3VBG_J"
      }
    },
    {
      "cell_type": "code",
      "source": [
        "import numpy as np\n",
        "import pandas as pd\n",
        "\n",
        "array_from_numpy = pa.array(np.arange(5))\n",
        "array_from_pandas = pa.array(pd.Series([1, 2, 3, 4, 5]))"
      ],
      "metadata": {
        "id": "W8qLZPLaAbty"
      },
      "execution_count": 6,
      "outputs": []
    },
    {
      "cell_type": "code",
      "source": [
        "# Verify array created from numpy\n",
        "array_from_numpy"
      ],
      "metadata": {
        "colab": {
          "base_uri": "https://localhost:8080/"
        },
        "id": "g5hPC3t4BeV8",
        "outputId": "d8d0540f-bab1-41e3-8584-1d597c8c3c24"
      },
      "execution_count": 7,
      "outputs": [
        {
          "output_type": "execute_result",
          "data": {
            "text/plain": [
              "<pyarrow.lib.Int64Array object at 0x7f17d4e0f980>\n",
              "[\n",
              "  0,\n",
              "  1,\n",
              "  2,\n",
              "  3,\n",
              "  4\n",
              "]"
            ]
          },
          "metadata": {},
          "execution_count": 7
        }
      ]
    },
    {
      "cell_type": "code",
      "source": [
        "# Verify array created from pandas\n",
        "array_from_pandas"
      ],
      "metadata": {
        "colab": {
          "base_uri": "https://localhost:8080/"
        },
        "id": "T2_1gGOoBiM4",
        "outputId": "ead82fdd-ed52-4252-e9a9-9df0f978b6e8"
      },
      "execution_count": 8,
      "outputs": [
        {
          "output_type": "execute_result",
          "data": {
            "text/plain": [
              "<pyarrow.lib.Int64Array object at 0x7f17d3b45f30>\n",
              "[\n",
              "  1,\n",
              "  2,\n",
              "  3,\n",
              "  4,\n",
              "  5\n",
              "]"
            ]
          },
          "metadata": {},
          "execution_count": 8
        }
      ]
    },
    {
      "cell_type": "markdown",
      "source": [
        "## Creating Tables\n",
        "* Tabular data in Arrow takes form of  pyarrow.Table\n",
        "* Each column is represented by a pyarrow.ChunkedArray \n",
        "* Tables can be created by pairing multiple arrays with names for their columns"
      ],
      "metadata": {
        "id": "QYDBPzYICo6Y"
      }
    },
    {
      "cell_type": "code",
      "source": [
        "table_random = pa.table([\n",
        "    pa.array([111, 112, 113, 114, 115]),\n",
        "    pa.array([\"apple\", \"bean\", \"car\", \"dog\", \"egg\"]),\n",
        "    pa.array([21.5, 15.0, 1000000.0, 40000.0, 10.0])\n",
        "], names=[\"number\", \"something\", \"price\"])\n",
        "\n",
        "table_random"
      ],
      "metadata": {
        "colab": {
          "base_uri": "https://localhost:8080/"
        },
        "id": "Al0lzqKhBkYP",
        "outputId": "1720f3c0-ad27-42ad-f00f-76d02d29cfbd"
      },
      "execution_count": 9,
      "outputs": [
        {
          "output_type": "execute_result",
          "data": {
            "text/plain": [
              "pyarrow.Table\n",
              "number: int64\n",
              "something: string\n",
              "price: double\n",
              "----\n",
              "number: [[111,112,113,114,115]]\n",
              "something: [[\"apple\",\"bean\",\"car\",\"dog\",\"egg\"]]\n",
              "price: [[21.5,15,1000000,40000,10]]"
            ]
          },
          "metadata": {},
          "execution_count": 9
        }
      ]
    },
    {
      "cell_type": "code",
      "source": [
        "print(table_random)"
      ],
      "metadata": {
        "colab": {
          "base_uri": "https://localhost:8080/"
        },
        "id": "jzFdxod-DaJa",
        "outputId": "03644031-f089-4439-e7de-35d61a2fdae5"
      },
      "execution_count": 10,
      "outputs": [
        {
          "output_type": "stream",
          "name": "stdout",
          "text": [
            "pyarrow.Table\n",
            "number: int64\n",
            "something: string\n",
            "price: double\n",
            "----\n",
            "number: [[111,112,113,114,115]]\n",
            "something: [[\"apple\",\"bean\",\"car\",\"dog\",\"egg\"]]\n",
            "price: [[21.5,15,1000000,40000,10]]\n"
          ]
        }
      ]
    },
    {
      "cell_type": "markdown",
      "source": [
        "## Create Table from Plain Python Data Structures Types\n",
        "* Arrow allows fast zero copy creation of create Arrow Arrays and Tables from plain Python Data structures such as lists and data dictionaries.\n",
        "* The pyarrow.table() function allows creation of Tables from a variety of inputs, including plain python objects <br/>\n",
        "Illustration below:"
      ],
      "metadata": {
        "id": "8nlyUi4xDmPW"
      }
    },
    {
      "cell_type": "code",
      "source": [
        "table_plain = pa.table({\n",
        "    \"col1\": [1, 2, 3, 4, 5],\n",
        "    \"col2\": [\"a\", \"b\", \"c\", \"d\", \"e\"]\n",
        "})\n",
        "\n",
        "table_plain"
      ],
      "metadata": {
        "colab": {
          "base_uri": "https://localhost:8080/"
        },
        "id": "H7QgRvdWDbNk",
        "outputId": "a434a1ee-3be2-46eb-b40d-b4fe4248dcc0"
      },
      "execution_count": 11,
      "outputs": [
        {
          "output_type": "execute_result",
          "data": {
            "text/plain": [
              "pyarrow.Table\n",
              "col1: int64\n",
              "col2: string\n",
              "----\n",
              "col1: [[1,2,3,4,5]]\n",
              "col2: [[\"a\",\"b\",\"c\",\"d\",\"e\"]]"
            ]
          },
          "metadata": {},
          "execution_count": 11
        }
      ]
    },
    {
      "cell_type": "code",
      "source": [
        "print(table_plain)"
      ],
      "metadata": {
        "colab": {
          "base_uri": "https://localhost:8080/"
        },
        "id": "bWAkgcwuEi-t",
        "outputId": "30b1a6b3-32ba-411d-a0f7-543545bf5dde"
      },
      "execution_count": 12,
      "outputs": [
        {
          "output_type": "stream",
          "name": "stdout",
          "text": [
            "pyarrow.Table\n",
            "col1: int64\n",
            "col2: string\n",
            "----\n",
            "col1: [[1,2,3,4,5]]\n",
            "col2: [[\"a\",\"b\",\"c\",\"d\",\"e\"]]\n"
          ]
        }
      ]
    },
    {
      "cell_type": "markdown",
      "source": [
        "## Creating Record Batches\n",
        "* In Arrow, A RecordBatch is a slice of a table.\n",
        "* Most I/O operations in Arrow happen when shipping batches of data to their destination. \n",
        "* pyarrow.RecordBatch processes a batch of rows of columns of equal length.\n"
      ],
      "metadata": {
        "id": "VX7jwtyZE5F7"
      }
    },
    {
      "cell_type": "code",
      "source": [
        "batch = pa.RecordBatch.from_arrays([\n",
        "    pa.array([1, 3, 5, 7, 9]),\n",
        "    pa.array([2, 4, 6, 8, 10])\n",
        "], names=[\"odd\", \"even\"])"
      ],
      "metadata": {
        "id": "WOVqyO5TEkBu"
      },
      "execution_count": 13,
      "outputs": []
    },
    {
      "cell_type": "code",
      "source": [
        "batch"
      ],
      "metadata": {
        "colab": {
          "base_uri": "https://localhost:8080/"
        },
        "id": "unK9fEpjKJCY",
        "outputId": "41bac60d-8653-44aa-bf30-d279cce92ae6"
      },
      "execution_count": 14,
      "outputs": [
        {
          "output_type": "execute_result",
          "data": {
            "text/plain": [
              "pyarrow.RecordBatch\n",
              "odd: int64\n",
              "even: int64"
            ]
          },
          "metadata": {},
          "execution_count": 14
        }
      ]
    },
    {
      "cell_type": "markdown",
      "source": [
        "## Combine multiple batches into a table using pyarrow.Table.from_batches()\n",
        "\n"
      ],
      "metadata": {
        "id": "zIx-PBPjKMf1"
      }
    },
    {
      "cell_type": "code",
      "source": [
        "second_batch = pa.RecordBatch.from_arrays([\n",
        "    pa.array([11, 13, 15, 17, 19]),\n",
        "    pa.array([12, 14, 16, 18, 20])\n",
        "], names=[\"odd\", \"even\"])\n",
        "\n",
        "batch_table = pa.Table.from_batches([batch, second_batch])\n",
        "batch_table"
      ],
      "metadata": {
        "colab": {
          "base_uri": "https://localhost:8080/"
        },
        "id": "pHaNZsVMKJz0",
        "outputId": "2213815e-5b4b-4810-b5da-e96a5e21ba26"
      },
      "execution_count": 15,
      "outputs": [
        {
          "output_type": "execute_result",
          "data": {
            "text/plain": [
              "pyarrow.Table\n",
              "odd: int64\n",
              "even: int64\n",
              "----\n",
              "odd: [[1,3,5,7,9],[11,13,15,17,19]]\n",
              "even: [[2,4,6,8,10],[12,14,16,18,20]]"
            ]
          },
          "metadata": {},
          "execution_count": 15
        }
      ]
    },
    {
      "cell_type": "markdown",
      "source": [
        "### pyarrow.Table can be converted to a list of pyarrow.RecordBatch using the pyarrow.Table.to_batches() method"
      ],
      "metadata": {
        "id": "sd3p8LDgKgdy"
      }
    },
    {
      "cell_type": "code",
      "source": [
        "record_batches = batch_table.to_batches(max_chunksize=5)\n",
        "print(len(record_batches))"
      ],
      "metadata": {
        "colab": {
          "base_uri": "https://localhost:8080/"
        },
        "id": "pWJhzQBVKVaF",
        "outputId": "15a1146d-f3ff-4583-e5bc-8c3898583835"
      },
      "execution_count": 16,
      "outputs": [
        {
          "output_type": "stream",
          "name": "stdout",
          "text": [
            "2\n"
          ]
        }
      ]
    },
    {
      "cell_type": "code",
      "source": [
        "record_batches"
      ],
      "metadata": {
        "colab": {
          "base_uri": "https://localhost:8080/"
        },
        "id": "DYcUN744Ky7B",
        "outputId": "b4e278ab-b00e-441a-e225-0d01c075edb3"
      },
      "execution_count": 17,
      "outputs": [
        {
          "output_type": "execute_result",
          "data": {
            "text/plain": [
              "[pyarrow.RecordBatch\n",
              " odd: int64\n",
              " even: int64, pyarrow.RecordBatch\n",
              " odd: int64\n",
              " even: int64]"
            ]
          },
          "metadata": {},
          "execution_count": 17
        }
      ]
    },
    {
      "cell_type": "code",
      "source": [
        "print(record_batches)"
      ],
      "metadata": {
        "colab": {
          "base_uri": "https://localhost:8080/"
        },
        "id": "SxIujg1xK0go",
        "outputId": "f0918c0c-8e23-4b43-95e9-17a99198c707"
      },
      "execution_count": 18,
      "outputs": [
        {
          "output_type": "stream",
          "name": "stdout",
          "text": [
            "[pyarrow.RecordBatch\n",
            "odd: int64\n",
            "even: int64, pyarrow.RecordBatch\n",
            "odd: int64\n",
            "even: int64]\n"
          ]
        }
      ]
    },
    {
      "cell_type": "markdown",
      "source": [
        "## Store Categorical Data\n",
        "* Arrow provides the pyarrow.DictionaryArray type to represent categorical data \n",
        "* Helps reducing the cost of storing and repeating the categories over and over leading to reducing memory use when columns might have large values (such as text).\n",
        "* Use pyarrow.Array.dictionary_encode() to convert an array containing repeated categorical data into a pyarrow.DictionaryArray"
      ],
      "metadata": {
        "id": "_WkvEzItLCuY"
      }
    },
    {
      "cell_type": "code",
      "source": [
        "arr = pa.array([\"red\", \"green\", \"blue\", \"blue\", \"green\", \"red\"])\n",
        "\n",
        "categorical = arr.dictionary_encode()\n",
        "print(categorical)"
      ],
      "metadata": {
        "colab": {
          "base_uri": "https://localhost:8080/"
        },
        "id": "HnZsvNO2LyuN",
        "outputId": "5f4ef7f5-8e9f-4741-886c-6cdfec02e4ef"
      },
      "execution_count": 19,
      "outputs": [
        {
          "output_type": "stream",
          "name": "stdout",
          "text": [
            "\n",
            "-- dictionary:\n",
            "  [\n",
            "    \"red\",\n",
            "    \"green\",\n",
            "    \"blue\"\n",
            "  ]\n",
            "-- indices:\n",
            "  [\n",
            "    0,\n",
            "    1,\n",
            "    2,\n",
            "    2,\n",
            "    1,\n",
            "    0\n",
            "  ]\n"
          ]
        }
      ]
    },
    {
      "cell_type": "markdown",
      "source": [
        "### Incase you know the categories already, skip the encode step and directly create the DictionaryArray using pyarrow.DictionaryArray.from_arrays()"
      ],
      "metadata": {
        "id": "-mqmUvP4L9cP"
      }
    },
    {
      "cell_type": "code",
      "source": [
        "categorical = pa.DictionaryArray.from_arrays(\n",
        "    indices=[0, 1, 2, 2, 1, 0],\n",
        "    dictionary=[\"red\", \"green\", \"blue\"]\n",
        ")\n",
        "print(categorical)"
      ],
      "metadata": {
        "colab": {
          "base_uri": "https://localhost:8080/"
        },
        "id": "tpSPr7ltL03E",
        "outputId": "42ac63fb-3954-419d-be74-54507d3c5d65"
      },
      "execution_count": 20,
      "outputs": [
        {
          "output_type": "stream",
          "name": "stdout",
          "text": [
            "\n",
            "-- dictionary:\n",
            "  [\n",
            "    \"red\",\n",
            "    \"green\",\n",
            "    \"blue\"\n",
            "  ]\n",
            "-- indices:\n",
            "  [\n",
            "    0,\n",
            "    1,\n",
            "    2,\n",
            "    2,\n",
            "    1,\n",
            "    0\n",
            "  ]\n"
          ]
        }
      ]
    }
  ]
}