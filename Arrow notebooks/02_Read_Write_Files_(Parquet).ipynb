{
  "nbformat": 4,
  "nbformat_minor": 0,
  "metadata": {
    "colab": {
      "name": "02 Read-Write Files (Parquet).ipynb",
      "provenance": [],
      "collapsed_sections": [],
      "authorship_tag": "ABX9TyPqLuePRtAfjZRn+4Kw9E8i",
      "include_colab_link": true
    },
    "kernelspec": {
      "name": "python3",
      "display_name": "Python 3"
    },
    "language_info": {
      "name": "python"
    }
  },
  "cells": [
    {
      "cell_type": "markdown",
      "metadata": {
        "id": "view-in-github",
        "colab_type": "text"
      },
      "source": [
        "<a href=\"https://colab.research.google.com/github/revendrat/Big-Data-Analytics/blob/main/02_Read_Write_Files_(Parquet).ipynb\" target=\"_parent\"><img src=\"https://colab.research.google.com/assets/colab-badge.svg\" alt=\"Open In Colab\"/></a>"
      ]
    },
    {
      "cell_type": "markdown",
      "source": [
        "Goal:\n",
        "1. Create an array with 100 numbers, from 0 to 99\n",
        "2. Write this data on Parquet format \n",
        "3. Read a Parquet format file\n",
        "4. Parquet File read/write operations are performed using the functions provided by the pyarrow.parquet module "
      ],
      "metadata": {
        "id": "J4tDihY0M7Aj"
      }
    },
    {
      "cell_type": "code",
      "execution_count": 1,
      "metadata": {
        "colab": {
          "base_uri": "https://localhost:8080/"
        },
        "id": "DMCgREUoMZrz",
        "outputId": "ae8c0be0-8013-49d5-ba4f-5099ffa961a2"
      },
      "outputs": [
        {
          "output_type": "stream",
          "name": "stdout",
          "text": [
            "0 .. 49 .. 99\n"
          ]
        }
      ],
      "source": [
        "import numpy as np\n",
        "import pyarrow as pa\n",
        "\n",
        "arr = pa.array(np.arange(100))\n",
        "\n",
        "print(f\"{arr[0]} .. {arr[49]} .. {arr[-1]}\")"
      ]
    },
    {
      "cell_type": "code",
      "source": [
        "# Check the list of files in your folder\n",
        "!ls"
      ],
      "metadata": {
        "colab": {
          "base_uri": "https://localhost:8080/"
        },
        "id": "KqBoVlp-U1YG",
        "outputId": "aca3bf3e-ec6a-47e8-bbb7-e0a7ed46765f"
      },
      "execution_count": 2,
      "outputs": [
        {
          "output_type": "stream",
          "name": "stdout",
          "text": [
            "sample_data\n"
          ]
        }
      ]
    },
    {
      "cell_type": "markdown",
      "source": [
        "Apache Parquet is a columnar storage format available to any project in the Hadoop ecosystem, regardless of the choice of data processing framework, data model or programming language.\n",
        "* Read more on Parquet here: https://parquet.apache.org/ <br/>\n",
        "\n",
        "1. Create a pyarrow.Table from arr\n",
        "2. Write an pyarrow.Table  to a Parquet file \n",
        "\n",
        "* Note that a table of a single column is created and then be written to a Parquet file."
      ],
      "metadata": {
        "id": "A23WrEsBN_uc"
      }
    },
    {
      "cell_type": "code",
      "source": [
        "table = pa.Table.from_arrays([arr], names=[\"col1\"])"
      ],
      "metadata": {
        "id": "cYZWWzU0MyaY"
      },
      "execution_count": 3,
      "outputs": []
    },
    {
      "cell_type": "code",
      "source": [
        "table"
      ],
      "metadata": {
        "colab": {
          "base_uri": "https://localhost:8080/"
        },
        "id": "pV-Vrlc2V5-F",
        "outputId": "f6c83682-8282-4f30-d4b0-9417dec46709"
      },
      "execution_count": 4,
      "outputs": [
        {
          "output_type": "execute_result",
          "data": {
            "text/plain": [
              "pyarrow.Table\n",
              "col1: int64\n",
              "----\n",
              "col1: [[0,1,2,3,4,5,6,7,8,9,...,90,91,92,93,94,95,96,97,98,99]]"
            ]
          },
          "metadata": {},
          "execution_count": 4
        }
      ]
    },
    {
      "cell_type": "code",
      "source": [
        "print(table)"
      ],
      "metadata": {
        "colab": {
          "base_uri": "https://localhost:8080/"
        },
        "id": "ml7KBaURV87Z",
        "outputId": "85a51c3a-fce3-4325-cd50-9ba9349848ef"
      },
      "execution_count": 5,
      "outputs": [
        {
          "output_type": "stream",
          "name": "stdout",
          "text": [
            "pyarrow.Table\n",
            "col1: int64\n",
            "----\n",
            "col1: [[0,1,2,3,4,5,6,7,8,9,...,90,91,92,93,94,95,96,97,98,99]]\n"
          ]
        }
      ]
    },
    {
      "cell_type": "markdown",
      "source": [
        "Once the table is created, the next step is write it to parquet format"
      ],
      "metadata": {
        "id": "tR9ARv8tMzQk"
      }
    },
    {
      "cell_type": "code",
      "source": [
        "# Write the data from table to example.parquet\n",
        "import pyarrow.parquet as pq\n",
        "\n",
        "pq.write_table(table, \"example.parquet\", compression=None)"
      ],
      "metadata": {
        "id": "9yq2LXD1PMVG"
      },
      "execution_count": 6,
      "outputs": []
    },
    {
      "cell_type": "code",
      "source": [
        "  # Check the file using ls command for colab or linux or mac systems\n",
        "!ls \n",
        "\n",
        "# Check the file using dir command for Windows OS"
      ],
      "metadata": {
        "colab": {
          "base_uri": "https://localhost:8080/"
        },
        "id": "Z_G6vtTPPO2X",
        "outputId": "9376cdd7-ca5a-4e21-c9aa-e5eb5604919c"
      },
      "execution_count": 7,
      "outputs": [
        {
          "output_type": "stream",
          "name": "stdout",
          "text": [
            "example.parquet  sample_data\n"
          ]
        }
      ]
    },
    {
      "cell_type": "markdown",
      "source": [
        "Read the data from example.parquet file to nums100"
      ],
      "metadata": {
        "id": "P6T9UX0iQ4fl"
      }
    },
    {
      "cell_type": "code",
      "source": [
        "# Read the data from example.parquet to nums100\n",
        "nums100 = pq.read_table(\"example.parquet\")\n",
        "print(nums100)"
      ],
      "metadata": {
        "colab": {
          "base_uri": "https://localhost:8080/"
        },
        "id": "C5jLVOdGPLRn",
        "outputId": "8529d5ea-782c-4e97-9e7f-fb41843f55e9"
      },
      "execution_count": null,
      "outputs": [
        {
          "output_type": "stream",
          "name": "stdout",
          "text": [
            "pyarrow.Table\n",
            "col1: int64\n",
            "----\n",
            "col1: [[0,1,2,3,4,5,6,7,8,9,...,90,91,92,93,94,95,96,97,98,99]]\n"
          ]
        }
      ]
    },
    {
      "cell_type": "markdown",
      "source": [
        "# Reading a subset of Parquet data\n",
        "* Use filters and columns arguments to restrict which Columns and Rows to read from a Parquet file with pyarrow.parquet.read_table()\n",
        "* Read values between 5 and 10 from example.parquet file"
      ],
      "metadata": {
        "id": "judn6vRbSm2h"
      }
    },
    {
      "cell_type": "code",
      "source": [
        "nums5_10 = pq.read_table(\"example.parquet\",\n",
        "                      columns=[\"col1\"],\n",
        "                      filters=[\n",
        "                          (\"col1\", \">\", 5),\n",
        "                          (\"col1\", \"<\", 10),\n",
        "                      ])\n",
        "print(nums5_10)"
      ],
      "metadata": {
        "colab": {
          "base_uri": "https://localhost:8080/"
        },
        "id": "_e3e5CQkQzJ9",
        "outputId": "dfc7f4f2-42d2-4c42-b023-10fb22d4e637"
      },
      "execution_count": 8,
      "outputs": [
        {
          "output_type": "stream",
          "name": "stdout",
          "text": [
            "pyarrow.Table\n",
            "col1: int64\n",
            "----\n",
            "col1: [[6,7,8,9]]\n"
          ]
        }
      ]
    },
    {
      "cell_type": "code",
      "source": [
        "nums0_5 = pq.read_table(\"example.parquet\",\n",
        "                      columns=[\"col1\"],\n",
        "                      filters=[\n",
        "                          (\"col1\", \"in\", [0,2,4,6,8,10])\n",
        "                      ])\n",
        "nums0_5\n"
      ],
      "metadata": {
        "colab": {
          "base_uri": "https://localhost:8080/"
        },
        "id": "TuBbSPV2aOct",
        "outputId": "17957ee8-25fa-4429-8790-46d195eaf053"
      },
      "execution_count": 17,
      "outputs": [
        {
          "output_type": "execute_result",
          "data": {
            "text/plain": [
              "pyarrow.Table\n",
              "col1: int64\n",
              "----\n",
              "col1: [[0,2,4,6,8,10]]"
            ]
          },
          "metadata": {},
          "execution_count": 17
        }
      ]
    },
    {
      "cell_type": "code",
      "source": [
        ""
      ],
      "metadata": {
        "id": "U-zUCnxXacn-"
      },
      "execution_count": null,
      "outputs": []
    }
  ]
}