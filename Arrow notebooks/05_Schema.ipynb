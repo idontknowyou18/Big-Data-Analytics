{
  "nbformat": 4,
  "nbformat_minor": 0,
  "metadata": {
    "colab": {
      "name": "05 Schema.ipynb",
      "provenance": [],
      "collapsed_sections": [],
      "authorship_tag": "ABX9TyMqwnIamq4FqCpYOAypUcX2",
      "include_colab_link": true
    },
    "kernelspec": {
      "name": "python3",
      "display_name": "Python 3"
    },
    "language_info": {
      "name": "python"
    }
  },
  "cells": [
    {
      "cell_type": "markdown",
      "metadata": {
        "id": "view-in-github",
        "colab_type": "text"
      },
      "source": [
        "<a href=\"https://colab.research.google.com/github/revendrat/Big-Data-Analytics/blob/main/05_Schema.ipynb\" target=\"_parent\"><img src=\"https://colab.research.google.com/assets/colab-badge.svg\" alt=\"Open In Colab\"/></a>"
      ]
    },
    {
      "cell_type": "markdown",
      "source": [
        "* Arrow automatically infers the most appropriate data type when reading in data or converting Python objects to Arrow objects.\n",
        "* In addition, data types may be passed manually in Arrow to ensure interoperability with databases and data warehouse systems.\n",
        "* Note includes illustrations on:\n",
        " * Setting the data type of an Arrow Array\n",
        " * Setting the schema of a Table\n",
        " * Merging multiple schemas"
      ],
      "metadata": {
        "id": "ayvBtkpu3Z9M"
      }
    },
    {
      "cell_type": "markdown",
      "source": [
        "## Setting the data type of an Arrow Array\n",
        "* Change an existing array to a different data type through the cast function"
      ],
      "metadata": {
        "id": "-BKFb5fjEQpR"
      }
    },
    {
      "cell_type": "code",
      "execution_count": null,
      "metadata": {
        "colab": {
          "base_uri": "https://localhost:8080/"
        },
        "id": "PqzFdmeK15V6",
        "outputId": "4c171ee2-7896-4f7e-cad6-2b0c89d51053"
      },
      "outputs": [
        {
          "output_type": "stream",
          "name": "stdout",
          "text": [
            "int64\n"
          ]
        }
      ],
      "source": [
        "import pyarrow as pa\n",
        "\n",
        "arr = pa.array([1, 2, 3, 4, 5])\n",
        "print(arr.type)"
      ]
    },
    {
      "cell_type": "code",
      "source": [
        "# Change to int8\n",
        "arr = arr.cast(pa.int8())\n",
        "print(arr.type)\n",
        "\n",
        "# Change to int16\n",
        "arr = arr.cast(pa.int16())\n",
        "print(arr.type)"
      ],
      "metadata": {
        "colab": {
          "base_uri": "https://localhost:8080/"
        },
        "id": "Xpn_9UzEEln_",
        "outputId": "3d5cd856-64ba-4ec2-a0cf-1acaf4294e82"
      },
      "execution_count": null,
      "outputs": [
        {
          "output_type": "stream",
          "name": "stdout",
          "text": [
            "int8\n",
            "int16\n"
          ]
        }
      ]
    },
    {
      "cell_type": "markdown",
      "source": [
        "### Manually create an array of particulare data type of interest by specifying data type during array creation\n",
        "\n"
      ],
      "metadata": {
        "id": "YYMPi-ZOFspK"
      }
    },
    {
      "cell_type": "code",
      "source": [
        "arr = pa.array([1, 2, 3, 4, 5], type=pa.int32())\n",
        "print(arr.type)"
      ],
      "metadata": {
        "colab": {
          "base_uri": "https://localhost:8080/"
        },
        "id": "zZ6teQv5FsQN",
        "outputId": "d66b3bbc-5f0a-48ed-c640-9acdc15fdc8f"
      },
      "execution_count": null,
      "outputs": [
        {
          "output_type": "stream",
          "name": "stdout",
          "text": [
            "int32\n"
          ]
        }
      ]
    },
    {
      "cell_type": "markdown",
      "source": [
        "## Setting the schema of a Table\n",
        "* Tables detain multiple columns, each with its own name and type. \n",
        "* Schema is defined as the union of types and names"
      ],
      "metadata": {
        "id": "8A-qi2DVGiRB"
      }
    },
    {
      "cell_type": "code",
      "source": [
        "test_schema = pa.schema([\n",
        "    (\"col1\", pa.int8()),\n",
        "    (\"col2\", pa.string()),\n",
        "    (\"col3\", pa.float64())\n",
        "])"
      ],
      "metadata": {
        "id": "_kt06HI7EwJ_"
      },
      "execution_count": null,
      "outputs": []
    },
    {
      "cell_type": "code",
      "source": [
        "test_schema"
      ],
      "metadata": {
        "colab": {
          "base_uri": "https://localhost:8080/"
        },
        "id": "oVVDPjdvGwb1",
        "outputId": "9ce7dca1-fcfd-4695-8de1-7d827bfcf024"
      },
      "execution_count": null,
      "outputs": [
        {
          "output_type": "execute_result",
          "data": {
            "text/plain": [
              "col1: int8\n",
              "col2: string\n",
              "col3: double"
            ]
          },
          "metadata": {},
          "execution_count": 23
        }
      ]
    },
    {
      "cell_type": "markdown",
      "source": [
        "### Provide the test_schema details to the data and arrow table as given below"
      ],
      "metadata": {
        "id": "VA25tZYnHwfF"
      }
    },
    {
      "cell_type": "code",
      "source": [
        "table = pa.table([\n",
        "    [1, 2, 3, 4, 5],\n",
        "    [\"a\", \"b\", \"c\", \"d\", \"e\"],\n",
        "    [1.0, 2.0, 3.0, 4.0, 5.0]\n",
        "], schema=test_schema)"
      ],
      "metadata": {
        "id": "f5SOG1V0Gw9L"
      },
      "execution_count": null,
      "outputs": []
    },
    {
      "cell_type": "code",
      "source": [
        "table"
      ],
      "metadata": {
        "colab": {
          "base_uri": "https://localhost:8080/"
        },
        "id": "pxCn7nJoH4fi",
        "outputId": "eb366334-45d2-4b12-b07f-8f6cc732f10d"
      },
      "execution_count": null,
      "outputs": [
        {
          "output_type": "execute_result",
          "data": {
            "text/plain": [
              "pyarrow.Table\n",
              "col1: int8\n",
              "col2: string\n",
              "col3: double\n",
              "----\n",
              "col1: [[1,2,3,4,5]]\n",
              "col2: [[\"a\",\"b\",\"c\",\"d\",\"e\"]]\n",
              "col3: [[1,2,3,4,5]]"
            ]
          },
          "metadata": {},
          "execution_count": 25
        }
      ]
    },
    {
      "cell_type": "markdown",
      "source": [
        "### Similar to arrays, cast tables to different schemas.\n",
        "Illustration below:"
      ],
      "metadata": {
        "id": "plUDQk56IjTK"
      }
    },
    {
      "cell_type": "code",
      "source": [
        "schema_modified = pa.schema([\n",
        "    (\"col1\", pa.int32()),\n",
        "    (\"col2\", pa.string()),\n",
        "    (\"col3\", pa.float32())\n",
        "])\n",
        "\n",
        "table = table.cast(schema_modified)"
      ],
      "metadata": {
        "id": "wg4HSsdUIXEs"
      },
      "execution_count": null,
      "outputs": []
    },
    {
      "cell_type": "code",
      "source": [
        "table"
      ],
      "metadata": {
        "colab": {
          "base_uri": "https://localhost:8080/"
        },
        "id": "X01y3K3CI3_y",
        "outputId": "61e6c803-d47a-426d-97a8-6b24e2b7e8af"
      },
      "execution_count": null,
      "outputs": [
        {
          "output_type": "execute_result",
          "data": {
            "text/plain": [
              "pyarrow.Table\n",
              "col1: int32\n",
              "col2: string\n",
              "col3: float\n",
              "----\n",
              "col1: [[1,2,3,4,5]]\n",
              "col2: [[\"a\",\"b\",\"c\",\"d\",\"e\"]]\n",
              "col3: [[1,2,3,4,5]]"
            ]
          },
          "metadata": {},
          "execution_count": 29
        }
      ]
    },
    {
      "cell_type": "code",
      "source": [
        "# SNAME, SID, & CGPA\n",
        "# SID is int32\n",
        "# CGPA is float8\n",
        "# Create arrow table with this schema\n",
        "test_schema = pa.schema([\n",
        "    (\"SNAME\", pa.string()),\n",
        "    (\"SID\", pa. int32()),\n",
        "    (\"CGPA\", pa.float64())\n",
        "    ])\n",
        "table = pa.table([[\"jiyu\", \"b\", \"c\", \"d\", \"e\"],[1, 2, 3, 4, 5], \n",
        "    [7, 8, 9, 9, 10]], schema=test_schema)\n",
        "table"
      ],
      "metadata": {
        "colab": {
          "base_uri": "https://localhost:8080/"
        },
        "id": "R808mCY7nbCf",
        "outputId": "ac14075a-9f3a-473f-9bd2-42be8b07d643"
      },
      "execution_count": null,
      "outputs": [
        {
          "output_type": "execute_result",
          "data": {
            "text/plain": [
              "pyarrow.Table\n",
              "SNAME: string\n",
              "SID: int32\n",
              "CGPA: double\n",
              "----\n",
              "SNAME: [[\"jiyu\",\"b\",\"c\",\"d\",\"e\"]]\n",
              "SID: [[1,2,3,4,5]]\n",
              "CGPA: [[7,8,9,9,10]]"
            ]
          },
          "metadata": {},
          "execution_count": 30
        }
      ]
    },
    {
      "cell_type": "markdown",
      "source": [
        "## Merging Multiple Schemas\n",
        "* Multiple separate groups of data may be combined to unify their schemas.\n",
        "* Such combination is helpful to create a superset of schema to applies to all data sources.\n",
        "* Use unify_schemas()  to combine multiple schemas into a single one"
      ],
      "metadata": {
        "id": "YgbAb-c2JC9_"
      }
    },
    {
      "cell_type": "code",
      "source": [
        "first_schema = pa.schema([\n",
        "    (\"country\", pa.string()),\n",
        "    (\"population\", pa.int32())\n",
        "])\n",
        "\n",
        "second_schema = pa.schema([\n",
        "    (\"country_code\", pa.string()),\n",
        "    (\"language\", pa.string())\n",
        "])"
      ],
      "metadata": {
        "id": "nG7nS7dOI4zM"
      },
      "execution_count": null,
      "outputs": []
    },
    {
      "cell_type": "code",
      "source": [
        "print(first_schema)\n",
        "print(second_schema)"
      ],
      "metadata": {
        "colab": {
          "base_uri": "https://localhost:8080/"
        },
        "id": "_o5dWDh5J6T6",
        "outputId": "d12e0611-0a46-429c-deb9-7d87add2cc5c"
      },
      "execution_count": null,
      "outputs": [
        {
          "output_type": "stream",
          "name": "stdout",
          "text": [
            "country: string\n",
            "population: int32\n",
            "country_code: string\n",
            "language: string\n"
          ]
        }
      ]
    },
    {
      "cell_type": "code",
      "source": [
        "# use unify_schema to combine/merge\n",
        "combine_schema = pa.unify_schemas([first_schema, second_schema])\n",
        "print(combine_schema)"
      ],
      "metadata": {
        "colab": {
          "base_uri": "https://localhost:8080/"
        },
        "id": "UeW1Vx0sKEPH",
        "outputId": "6f90d23c-22e7-495a-e0a0-cbfef610bc5e"
      },
      "execution_count": null,
      "outputs": [
        {
          "output_type": "stream",
          "name": "stdout",
          "text": [
            "country: string\n",
            "population: int32\n",
            "country_code: string\n",
            "language: string\n"
          ]
        }
      ]
    },
    {
      "cell_type": "markdown",
      "source": [
        "### In case the combined schemas have overlapping columns, they can still be combined as far as the colliding columns retain the same type (country_code)"
      ],
      "metadata": {
        "id": "ePEn_MQzK4Be"
      }
    },
    {
      "cell_type": "code",
      "source": [
        "third_schema = pa.schema([\n",
        "    (\"country_code\", pa.string()),\n",
        "    (\"lat\", pa.float32()),\n",
        "    (\"long\", pa.float32()),\n",
        "])\n",
        "\n",
        "combined_schema =  pa.unify_schemas([first_schema, second_schema, third_schema])\n",
        "\n",
        "print(combined_schema)"
      ],
      "metadata": {
        "colab": {
          "base_uri": "https://localhost:8080/"
        },
        "id": "STZ2ut0tK2Ru",
        "outputId": "4c5ca350-2b67-469f-dfd4-ad874999279c"
      },
      "execution_count": null,
      "outputs": [
        {
          "output_type": "stream",
          "name": "stdout",
          "text": [
            "country: string\n",
            "population: int32\n",
            "country_code: string\n",
            "language: string\n",
            "lat: float\n",
            "long: float\n"
          ]
        }
      ]
    },
    {
      "cell_type": "markdown",
      "source": [
        "* If a merged field has instead diverging types in the combined schemas then trying to merge the schemas will fail. \n",
        "* For example if country_code was a numeric instead of a string we would be unable to unify the schemas because in second_schema it was already declared as a pa.string()"
      ],
      "metadata": {
        "id": "7BRMMaLiLp32"
      }
    },
    {
      "cell_type": "code",
      "source": [
        "third_schema = pa.schema([\n",
        "    (\"country_code\", pa.int32()),\n",
        "    (\"lat\", pa.float32()),\n",
        "    (\"long\", pa.float32()),\n",
        "])\n",
        "\n",
        "combined_schema =  pa.unify_schemas([first_schema, second_schema, third_schema])\n"
      ],
      "metadata": {
        "colab": {
          "base_uri": "https://localhost:8080/",
          "height": 260
        },
        "id": "qNNuuW7NLq4V",
        "outputId": "ae624824-50c1-4148-c628-c98ad4093830"
      },
      "execution_count": null,
      "outputs": [
        {
          "output_type": "error",
          "ename": "ArrowInvalid",
          "evalue": "ignored",
          "traceback": [
            "\u001b[0;31m---------------------------------------------------------------------------\u001b[0m",
            "\u001b[0;31mArrowInvalid\u001b[0m                              Traceback (most recent call last)",
            "\u001b[0;32m<ipython-input-16-701bb74d5567>\u001b[0m in \u001b[0;36m<module>\u001b[0;34m()\u001b[0m\n\u001b[1;32m      5\u001b[0m ])\n\u001b[1;32m      6\u001b[0m \u001b[0;34m\u001b[0m\u001b[0m\n\u001b[0;32m----> 7\u001b[0;31m \u001b[0mcombined_schema\u001b[0m \u001b[0;34m=\u001b[0m  \u001b[0mpa\u001b[0m\u001b[0;34m.\u001b[0m\u001b[0munify_schemas\u001b[0m\u001b[0;34m(\u001b[0m\u001b[0;34m[\u001b[0m\u001b[0mfirst_schema\u001b[0m\u001b[0;34m,\u001b[0m \u001b[0msecond_schema\u001b[0m\u001b[0;34m,\u001b[0m \u001b[0mthird_schema\u001b[0m\u001b[0;34m]\u001b[0m\u001b[0;34m)\u001b[0m\u001b[0;34m\u001b[0m\u001b[0;34m\u001b[0m\u001b[0m\n\u001b[0m",
            "\u001b[0;32m/usr/local/lib/python3.7/dist-packages/pyarrow/types.pxi\u001b[0m in \u001b[0;36mpyarrow.lib.unify_schemas\u001b[0;34m()\u001b[0m\n",
            "\u001b[0;32m/usr/local/lib/python3.7/dist-packages/pyarrow/error.pxi\u001b[0m in \u001b[0;36mpyarrow.lib.pyarrow_internal_check_status\u001b[0;34m()\u001b[0m\n",
            "\u001b[0;32m/usr/local/lib/python3.7/dist-packages/pyarrow/error.pxi\u001b[0m in \u001b[0;36mpyarrow.lib.check_status\u001b[0;34m()\u001b[0m\n",
            "\u001b[0;31mArrowInvalid\u001b[0m: Unable to merge: Field country_code has incompatible types: string vs int32"
          ]
        }
      ]
    },
    {
      "cell_type": "code",
      "source": [
        "# To fetch only the error, use the following:\n",
        "try:\n",
        "    combined_schema =  pa.unify_schemas([first_schema, second_schema, third_schema])\n",
        "except pa.ArrowInvalid as e:\n",
        "    print(e)"
      ],
      "metadata": {
        "colab": {
          "base_uri": "https://localhost:8080/"
        },
        "id": "Jv53zSeFL2aK",
        "outputId": "8611aae0-dff1-4183-9c7a-6b370aee3fcf"
      },
      "execution_count": null,
      "outputs": [
        {
          "output_type": "stream",
          "name": "stdout",
          "text": [
            "Unable to merge: Field country_code has incompatible types: string vs int32\n"
          ]
        }
      ]
    }
  ]
}