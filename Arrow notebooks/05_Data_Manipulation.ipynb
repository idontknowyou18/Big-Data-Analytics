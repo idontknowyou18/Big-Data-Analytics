{
  "nbformat": 4,
  "nbformat_minor": 0,
  "metadata": {
    "colab": {
      "name": "05 Data Manipulation.ipynb",
      "provenance": [],
      "authorship_tag": "ABX9TyNS56XZh3SBucrH5ErKIfyi",
      "include_colab_link": true
    },
    "kernelspec": {
      "name": "python3",
      "display_name": "Python 3"
    },
    "language_info": {
      "name": "python"
    }
  },
  "cells": [
    {
      "cell_type": "markdown",
      "metadata": {
        "id": "view-in-github",
        "colab_type": "text"
      },
      "source": [
        "<a href=\"https://colab.research.google.com/github/revendrat/Big-Data-Analytics/blob/main/05_Data_Manipulation.ipynb\" target=\"_parent\"><img src=\"https://colab.research.google.com/assets/colab-badge.svg\" alt=\"Open In Colab\"/></a>"
      ]
    },
    {
      "cell_type": "markdown",
      "source": [
        "Agenda\n",
        "* Computing Mean/Min/Max values of an array\n",
        "* Counting Occurrences of Elements\n",
        "* Applying arithmetic functions to arrays.\n",
        "* Appending tables to an existing table\n",
        "* Adding a column to an existing Table\n",
        "* Searching for values matching a predicate in Arrays"
      ],
      "metadata": {
        "id": "A9wEH8qSL5gt"
      }
    },
    {
      "cell_type": "markdown",
      "source": [
        "## Computing Mean/Min/Max values of an array"
      ],
      "metadata": {
        "id": "90GqN-iyMKJ7"
      }
    },
    {
      "cell_type": "code",
      "execution_count": 1,
      "metadata": {
        "id": "gPsZtgJY1aTp"
      },
      "outputs": [],
      "source": [
        "# import package-modules\n",
        "import pyarrow as pa\n",
        "import pyarrow.compute as pc"
      ]
    },
    {
      "cell_type": "code",
      "source": [
        "#declare array\n",
        "a = pa.array([1, 1, 2, 3, 7, 5, 6, 6, 3])"
      ],
      "metadata": {
        "id": "LLx8MVhDMUUM"
      },
      "execution_count": 2,
      "outputs": []
    },
    {
      "cell_type": "code",
      "source": [
        "# calculate sum of array \n",
        "pc.sum(a)"
      ],
      "metadata": {
        "colab": {
          "base_uri": "https://localhost:8080/"
        },
        "id": "_pZFCXnNMbKy",
        "outputId": "92fbcc05-1978-4d29-d013-fd5894126cfd"
      },
      "execution_count": 3,
      "outputs": [
        {
          "output_type": "execute_result",
          "data": {
            "text/plain": [
              "<pyarrow.Int64Scalar: 34>"
            ]
          },
          "metadata": {},
          "execution_count": 3
        }
      ]
    },
    {
      "cell_type": "code",
      "source": [
        "# calculate mean of array\n",
        "pc.mean(a)"
      ],
      "metadata": {
        "colab": {
          "base_uri": "https://localhost:8080/"
        },
        "id": "KNk99vzjMh15",
        "outputId": "9324e100-f0e1-40f6-de15-7162e194a8be"
      },
      "execution_count": 4,
      "outputs": [
        {
          "output_type": "execute_result",
          "data": {
            "text/plain": [
              "<pyarrow.DoubleScalar: 3.7777777777777777>"
            ]
          },
          "metadata": {},
          "execution_count": 4
        }
      ]
    },
    {
      "cell_type": "code",
      "source": [
        "# calculate min-max values of array\n",
        "pc.min_max(a)"
      ],
      "metadata": {
        "colab": {
          "base_uri": "https://localhost:8080/"
        },
        "id": "mNz2cK-JNLkd",
        "outputId": "4abd1601-0cae-440d-b460-1d32fee04741"
      },
      "execution_count": 5,
      "outputs": [
        {
          "output_type": "execute_result",
          "data": {
            "text/plain": [
              "<pyarrow.StructScalar: [('min', 1), ('max', 7)]>"
            ]
          },
          "metadata": {},
          "execution_count": 5
        }
      ]
    },
    {
      "cell_type": "markdown",
      "source": [
        "## Counting Occurances of Elements"
      ],
      "metadata": {
        "id": "pOgD3EPYaRKk"
      }
    },
    {
      "cell_type": "code",
      "source": [
        "pc.value_counts(a)"
      ],
      "metadata": {
        "colab": {
          "base_uri": "https://localhost:8080/"
        },
        "id": "E9VUwJ4cNRIj",
        "outputId": "325cb734-f5bb-445a-b2c1-1f4c1060a07d"
      },
      "execution_count": 6,
      "outputs": [
        {
          "output_type": "execute_result",
          "data": {
            "text/plain": [
              "<pyarrow.lib.StructArray object at 0x7f33abd0a210>\n",
              "-- is_valid: all not null\n",
              "-- child 0 type: int64\n",
              "  [\n",
              "    1,\n",
              "    2,\n",
              "    3,\n",
              "    7,\n",
              "    5,\n",
              "    6\n",
              "  ]\n",
              "-- child 1 type: int64\n",
              "  [\n",
              "    2,\n",
              "    1,\n",
              "    2,\n",
              "    1,\n",
              "    1,\n",
              "    2\n",
              "  ]"
            ]
          },
          "metadata": {},
          "execution_count": 6
        }
      ]
    },
    {
      "cell_type": "code",
      "source": [
        "count_a = pc.value_counts(a)\n",
        "for i in count_a:\n",
        "  print(i)"
      ],
      "metadata": {
        "colab": {
          "base_uri": "https://localhost:8080/"
        },
        "id": "aTbEshx0a9gE",
        "outputId": "0bc9e577-1d3b-4338-fa79-892ad7333b86"
      },
      "execution_count": 7,
      "outputs": [
        {
          "output_type": "stream",
          "name": "stdout",
          "text": [
            "[('values', 1), ('counts', 2)]\n",
            "[('values', 2), ('counts', 1)]\n",
            "[('values', 3), ('counts', 2)]\n",
            "[('values', 7), ('counts', 1)]\n",
            "[('values', 5), ('counts', 1)]\n",
            "[('values', 6), ('counts', 2)]\n"
          ]
        }
      ]
    },
    {
      "cell_type": "markdown",
      "source": [
        "## Apply arithmetic functions to arrays"
      ],
      "metadata": {
        "id": "6sXWXZIubPSU"
      }
    },
    {
      "cell_type": "code",
      "source": [
        "# multiply all values in array by 2\n",
        "pc.multiply(a,2)"
      ],
      "metadata": {
        "colab": {
          "base_uri": "https://localhost:8080/"
        },
        "id": "HVzB_whvbIaZ",
        "outputId": "30909f24-b761-4200-8ac1-d36ab0b3cf02"
      },
      "execution_count": 8,
      "outputs": [
        {
          "output_type": "execute_result",
          "data": {
            "text/plain": [
              "<pyarrow.lib.Int64Array object at 0x7f33abcf9a60>\n",
              "[\n",
              "  2,\n",
              "  2,\n",
              "  4,\n",
              "  6,\n",
              "  14,\n",
              "  10,\n",
              "  12,\n",
              "  12,\n",
              "  6\n",
              "]"
            ]
          },
          "metadata": {},
          "execution_count": 8
        }
      ]
    },
    {
      "cell_type": "code",
      "source": [
        "# divide all values in array by 2\n",
        "pc.divide(a,2)"
      ],
      "metadata": {
        "colab": {
          "base_uri": "https://localhost:8080/"
        },
        "id": "1QvGDZmZbgxg",
        "outputId": "077c9b73-90a9-4802-ab4b-196533a78b4d"
      },
      "execution_count": 9,
      "outputs": [
        {
          "output_type": "execute_result",
          "data": {
            "text/plain": [
              "<pyarrow.lib.Int64Array object at 0x7f33abd3b0c0>\n",
              "[\n",
              "  0,\n",
              "  0,\n",
              "  1,\n",
              "  1,\n",
              "  3,\n",
              "  2,\n",
              "  3,\n",
              "  3,\n",
              "  1\n",
              "]"
            ]
          },
          "metadata": {},
          "execution_count": 9
        }
      ]
    },
    {
      "cell_type": "markdown",
      "source": [
        "## Append tables to an existing table\n",
        "* Say two arrow tables containing analytics courses and business courses are created.\n",
        "* Append or combine the tables using pyarrow.concat_tables()\n",
        "* Appending tables is a zero-copy operation in Arrow\n",
        "* The data is copied during append operations only when casting of data types is performed"
      ],
      "metadata": {
        "id": "ypSvcCdhcOv1"
      }
    },
    {
      "cell_type": "code",
      "source": [
        "analytics_courses = pa.table([[\"Programming for Analytics\", \"Big Data Analytics\"], [\"MPBA 517\", \"MPBA 519\"]], names = [\"Course Name\", \"Course Code\"])"
      ],
      "metadata": {
        "id": "W3wL7Jy9bttc"
      },
      "execution_count": 10,
      "outputs": []
    },
    {
      "cell_type": "code",
      "source": [
        "analytics_courses"
      ],
      "metadata": {
        "colab": {
          "base_uri": "https://localhost:8080/"
        },
        "id": "HxjFvZVbdhHw",
        "outputId": "86aee19c-f4da-4193-9c49-6f79f2240398"
      },
      "execution_count": 11,
      "outputs": [
        {
          "output_type": "execute_result",
          "data": {
            "text/plain": [
              "pyarrow.Table\n",
              "Course Name: string\n",
              "Course Code: string\n",
              "----\n",
              "Course Name: [[\"Programming for Analytics\",\"Big Data Analytics\"]]\n",
              "Course Code: [[\"MPBA 517\",\"MPBA 519\"]]"
            ]
          },
          "metadata": {},
          "execution_count": 11
        }
      ]
    },
    {
      "cell_type": "code",
      "source": [
        "business_courses = pa.table([[\"Strategic Management\", \"Entrepreneurship\"], [\"MPA 410\", \"MBA 411\"]], names = [\"Course Name\", \"Course Code\"])"
      ],
      "metadata": {
        "id": "xrn6Z9TjdiTR"
      },
      "execution_count": 12,
      "outputs": []
    },
    {
      "cell_type": "code",
      "source": [
        "business_courses"
      ],
      "metadata": {
        "colab": {
          "base_uri": "https://localhost:8080/"
        },
        "id": "BeyuCjwKduhH",
        "outputId": "4b4172c3-0ce9-4da6-984a-b9ff0000afeb"
      },
      "execution_count": 13,
      "outputs": [
        {
          "output_type": "execute_result",
          "data": {
            "text/plain": [
              "pyarrow.Table\n",
              "Course Name: string\n",
              "Course Code: string\n",
              "----\n",
              "Course Name: [[\"Strategic Management\",\"Entrepreneurship\"]]\n",
              "Course Code: [[\"MPA 410\",\"MBA 411\"]]"
            ]
          },
          "metadata": {},
          "execution_count": 13
        }
      ]
    },
    {
      "cell_type": "code",
      "source": [
        "combined_courses = pa.concat_tables([analytics_courses, business_courses])\n",
        "combined_courses"
      ],
      "metadata": {
        "colab": {
          "base_uri": "https://localhost:8080/"
        },
        "id": "znj22eJldvnK",
        "outputId": "8073de59-4ea3-4635-b131-7f21f62a3b8f"
      },
      "execution_count": 14,
      "outputs": [
        {
          "output_type": "execute_result",
          "data": {
            "text/plain": [
              "pyarrow.Table\n",
              "Course Name: string\n",
              "Course Code: string\n",
              "----\n",
              "Course Name: [[\"Programming for Analytics\",\"Big Data Analytics\"],[\"Strategic Management\",\"Entrepreneurship\"]]\n",
              "Course Code: [[\"MPBA 517\",\"MPBA 519\"],[\"MPA 410\",\"MBA 411\"]]"
            ]
          },
          "metadata": {},
          "execution_count": 14
        }
      ]
    },
    {
      "cell_type": "markdown",
      "source": [
        "## Adding a column to an existing Table\n",
        "* suppose you need to add semester coulmn to tables: combined_courses\n",
        "* use pyarrow.Table.append_column()"
      ],
      "metadata": {
        "id": "AE3pcTzBeqtg"
      }
    },
    {
      "cell_type": "code",
      "source": [
        "print(combined_courses)"
      ],
      "metadata": {
        "colab": {
          "base_uri": "https://localhost:8080/"
        },
        "id": "4z3ye371eRbg",
        "outputId": "22b2efcb-57d9-4757-d159-c9e38bc7c055"
      },
      "execution_count": 16,
      "outputs": [
        {
          "output_type": "stream",
          "name": "stdout",
          "text": [
            "pyarrow.Table\n",
            "Course Name: string\n",
            "Course Code: string\n",
            "----\n",
            "Course Name: [[\"Programming for Analytics\",\"Big Data Analytics\"],[\"Strategic Management\",\"Entrepreneurship\"]]\n",
            "Course Code: [[\"MPBA 517\",\"MPBA 519\"],[\"MPA 410\",\"MBA 411\"]]\n"
          ]
        }
      ]
    },
    {
      "cell_type": "code",
      "source": [
        "# Append operation\n",
        "combined_courses = combined_courses.append_column(\"Semester\", pa.array([\"I\", \"II\", \"II\", \"III\"]))\n",
        "combined_courses"
      ],
      "metadata": {
        "colab": {
          "base_uri": "https://localhost:8080/"
        },
        "id": "mnXTc_w5gAD5",
        "outputId": "89ff7d7e-f75a-4909-8864-4741f8937a55"
      },
      "execution_count": 20,
      "outputs": [
        {
          "output_type": "execute_result",
          "data": {
            "text/plain": [
              "pyarrow.Table\n",
              "Course Name: string\n",
              "Course Code: string\n",
              "Semester: string\n",
              "----\n",
              "Course Name: [[\"Programming for Analytics\",\"Big Data Analytics\"],[\"Strategic Management\",\"Entrepreneurship\"]]\n",
              "Course Code: [[\"MPBA 517\",\"MPBA 519\"],[\"MPA 410\",\"MBA 411\"]]\n",
              "Semester: [[\"I\",\"II\",\"II\",\"III\"]]"
            ]
          },
          "metadata": {},
          "execution_count": 20
        }
      ]
    },
    {
      "cell_type": "markdown",
      "source": [
        "## Replacing a column in an existing Table\n",
        "* Assume that you have a table with vegetables and their prices in dollars per kilogram.\n",
        "* You want to replace prices column with prices in rupees\n",
        "* use pyarrow.Table.set_column() method\n",
        "* make sure to use appropriate index number (1 for 2nd column) to replace the column"
      ],
      "metadata": {
        "id": "HMszrt1YhsQW"
      }
    },
    {
      "cell_type": "code",
      "source": [
        "veg_prices = pa.table([[\"Tomatos\", \"Potatoes\", \"Beans\", \"Red Chillies\"],\n",
        "                      [2,4,6,3]], names = [\"veg_item\", \"price_usd\"])\n",
        "veg_prices"
      ],
      "metadata": {
        "colab": {
          "base_uri": "https://localhost:8080/"
        },
        "id": "F8ijr0Fkgd8U",
        "outputId": "11ab0c19-907c-492b-cd89-17d0041c2dc1"
      },
      "execution_count": 21,
      "outputs": [
        {
          "output_type": "execute_result",
          "data": {
            "text/plain": [
              "pyarrow.Table\n",
              "veg_item: string\n",
              "price_usd: int64\n",
              "----\n",
              "veg_item: [[\"Tomatos\",\"Potatoes\",\"Beans\",\"Red Chillies\"]]\n",
              "price_usd: [[2,4,6,3]]"
            ]
          },
          "metadata": {},
          "execution_count": 21
        }
      ]
    },
    {
      "cell_type": "code",
      "source": [
        "# replace column\n",
        "new_veg_prices = veg_prices.set_column(\n",
        "    1,\n",
        "    \"price_inr\",\n",
        "    pa.array([2*75, 4*75, 6*75, 3*75])\n",
        ")\n",
        "new_veg_prices"
      ],
      "metadata": {
        "colab": {
          "base_uri": "https://localhost:8080/"
        },
        "id": "y6l73pMUjSn2",
        "outputId": "4be88a10-7799-4814-b4f8-30a9def68f95"
      },
      "execution_count": 22,
      "outputs": [
        {
          "output_type": "execute_result",
          "data": {
            "text/plain": [
              "pyarrow.Table\n",
              "veg_item: string\n",
              "price_inr: int64\n",
              "----\n",
              "veg_item: [[\"Tomatos\",\"Potatoes\",\"Beans\",\"Red Chillies\"]]\n",
              "price_inr: [[150,300,450,225]]"
            ]
          },
          "metadata": {},
          "execution_count": 22
        }
      ]
    },
    {
      "cell_type": "markdown",
      "source": [
        "## Searching for values matching a predicate in Arrays\n",
        "* In case you are looking for a matching value in Arrow arrays, the arrow.compute module has several methods\n",
        "* Illustrations using greater, lower, and equal to a number are provided below"
      ],
      "metadata": {
        "id": "3qwnKk3-lfuX"
      }
    },
    {
      "cell_type": "code",
      "source": [
        "num_arr = pa.array(range(10))\n",
        "num_arr"
      ],
      "metadata": {
        "colab": {
          "base_uri": "https://localhost:8080/"
        },
        "id": "z1pi2j3Dj2wX",
        "outputId": "b96b091a-205e-46b2-d2c4-fd96f612ea12"
      },
      "execution_count": 23,
      "outputs": [
        {
          "output_type": "execute_result",
          "data": {
            "text/plain": [
              "<pyarrow.lib.Int64Array object at 0x7f33a9e30750>\n",
              "[\n",
              "  0,\n",
              "  1,\n",
              "  2,\n",
              "  3,\n",
              "  4,\n",
              "  5,\n",
              "  6,\n",
              "  7,\n",
              "  8,\n",
              "  9\n",
              "]"
            ]
          },
          "metadata": {},
          "execution_count": 23
        }
      ]
    },
    {
      "cell_type": "code",
      "source": [
        "# Fetch all values in num_arr that are greater than 5\n",
        "# pc.greater(num_arr,5)\n",
        "five_label = pc.greater(num_arr,5)\n",
        "greater_five = pc.filter(num_arr, five_label)\n",
        "greater_five"
      ],
      "metadata": {
        "colab": {
          "base_uri": "https://localhost:8080/"
        },
        "id": "ndrFf-OCmjId",
        "outputId": "f9c1f239-760f-46c3-8654-3ee09bd9a5f1"
      },
      "execution_count": 25,
      "outputs": [
        {
          "output_type": "execute_result",
          "data": {
            "text/plain": [
              "<pyarrow.lib.Int64Array object at 0x7f33a9e30f30>\n",
              "[\n",
              "  6,\n",
              "  7,\n",
              "  8,\n",
              "  9\n",
              "]"
            ]
          },
          "metadata": {},
          "execution_count": 25
        }
      ]
    },
    {
      "cell_type": "code",
      "source": [
        "# Fetch all values in num_arr that are lower than 5\n",
        "#pc.less(num_arr,5)\n",
        "five_label = pc.less(num_arr,5)\n",
        "lower_five = pc.filter(num_arr, five_label)\n",
        "lower_five"
      ],
      "metadata": {
        "colab": {
          "base_uri": "https://localhost:8080/"
        },
        "id": "MWKZRHxemv5v",
        "outputId": "b21d63a0-e053-4192-aa7b-040085c15d41"
      },
      "execution_count": 28,
      "outputs": [
        {
          "output_type": "execute_result",
          "data": {
            "text/plain": [
              "<pyarrow.lib.Int64Array object at 0x7f33a9e30fa0>\n",
              "[\n",
              "  0,\n",
              "  1,\n",
              "  2,\n",
              "  3,\n",
              "  4\n",
              "]"
            ]
          },
          "metadata": {},
          "execution_count": 28
        }
      ]
    },
    {
      "cell_type": "code",
      "source": [
        "# Fetch all values in num_arr that are equal 5\n",
        "#pc.equal(num_arr,5)\n",
        "five_label = pc.equal(num_arr,5)\n",
        "equal_five = pc.filter(num_arr, five_label)\n",
        "equal_five"
      ],
      "metadata": {
        "colab": {
          "base_uri": "https://localhost:8080/"
        },
        "id": "o5VMadJDpJnP",
        "outputId": "5501d36d-7ee4-441c-8b4c-08815907c8cd"
      },
      "execution_count": 29,
      "outputs": [
        {
          "output_type": "execute_result",
          "data": {
            "text/plain": [
              "<pyarrow.lib.Int64Array object at 0x7f33a9e4c910>\n",
              "[\n",
              "  5\n",
              "]"
            ]
          },
          "metadata": {},
          "execution_count": 29
        }
      ]
    }
  ]
}