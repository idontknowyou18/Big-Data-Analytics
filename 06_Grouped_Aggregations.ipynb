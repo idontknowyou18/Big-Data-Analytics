{
  "nbformat": 4,
  "nbformat_minor": 0,
  "metadata": {
    "colab": {
      "name": "06_Grouped_Aggregations.ipynb",
      "provenance": [],
      "authorship_tag": "ABX9TyMvifn/7Z7hAHQWMw8P9qc4",
      "include_colab_link": true
    },
    "kernelspec": {
      "name": "python3",
      "display_name": "Python 3"
    },
    "language_info": {
      "name": "python"
    }
  },
  "cells": [
    {
      "cell_type": "markdown",
      "metadata": {
        "id": "view-in-github",
        "colab_type": "text"
      },
      "source": [
        "<a href=\"https://colab.research.google.com/github/revendrat/Big-Data-Analytics/blob/main/06_Grouped_Aggregations.ipynb\" target=\"_parent\"><img src=\"https://colab.research.google.com/assets/colab-badge.svg\" alt=\"Open In Colab\"/></a>"
      ]
    },
    {
      "cell_type": "markdown",
      "source": [
        "Agenda:\n",
        "* Some computations on arrays\n",
        "* Grouped Aggregations on tables"
      ],
      "metadata": {
        "id": "h0zqse_QtBm6"
      }
    },
    {
      "cell_type": "code",
      "execution_count": 1,
      "metadata": {
        "id": "mSyN-XA4s8V2"
      },
      "outputs": [],
      "source": [
        "# import packages-modules\n",
        "import pyarrow as pa\n",
        "import pyarrow.compute as pc"
      ]
    },
    {
      "cell_type": "code",
      "source": [
        "array_a = pa.array([1,1,2,3])\n",
        "array_b = pa.array([4,1,2,8])\n",
        "print(array_a)\n",
        "print(array_b)"
      ],
      "metadata": {
        "colab": {
          "base_uri": "https://localhost:8080/"
        },
        "id": "C_sc5Ws5tO3g",
        "outputId": "bd8c4aed-1ee9-4489-cf9f-8447b96aba05"
      },
      "execution_count": null,
      "outputs": [
        {
          "output_type": "stream",
          "name": "stdout",
          "text": [
            "[\n",
            "  1,\n",
            "  1,\n",
            "  2,\n",
            "  3\n",
            "]\n",
            "[\n",
            "  4,\n",
            "  1,\n",
            "  2,\n",
            "  8\n",
            "]\n"
          ]
        }
      ]
    },
    {
      "cell_type": "markdown",
      "source": [
        "# Some computations\n",
        "* Verify if elements in arrays equal\n",
        "* Perform scalar multiplication\n",
        "* Sort by indices in a table"
      ],
      "metadata": {
        "id": "OUIGekHAtpt_"
      }
    },
    {
      "cell_type": "code",
      "source": [
        "# Verify array elements are equal\n",
        "pc.equal(array_a, array_b)"
      ],
      "metadata": {
        "colab": {
          "base_uri": "https://localhost:8080/"
        },
        "id": "FmkZ2l9UtZbn",
        "outputId": "fea07f78-8889-4937-e2d8-58d5717b1cc6"
      },
      "execution_count": null,
      "outputs": [
        {
          "output_type": "execute_result",
          "data": {
            "text/plain": [
              "<pyarrow.lib.BooleanArray object at 0x7fd9a1177050>\n",
              "[\n",
              "  false,\n",
              "  true,\n",
              "  true,\n",
              "  false\n",
              "]"
            ]
          },
          "metadata": {},
          "execution_count": 18
        }
      ]
    },
    {
      "cell_type": "code",
      "source": [
        "# scalar multiplication\n",
        "pc.multiply(array_a, array_b)"
      ],
      "metadata": {
        "colab": {
          "base_uri": "https://localhost:8080/"
        },
        "id": "RZf7dJBNt1he",
        "outputId": "ce51a8d9-bc4f-435a-d071-82fc1cd65f89"
      },
      "execution_count": null,
      "outputs": [
        {
          "output_type": "execute_result",
          "data": {
            "text/plain": [
              "<pyarrow.lib.Int64Array object at 0x7fd9a1177280>\n",
              "[\n",
              "  4,\n",
              "  1,\n",
              "  4,\n",
              "  24\n",
              "]"
            ]
          },
          "metadata": {},
          "execution_count": 19
        }
      ]
    },
    {
      "cell_type": "code",
      "source": [
        "# Sort table based on indices\n",
        "ab = pa.table({'a': array_a, 'b': array_b})\n",
        "ab"
      ],
      "metadata": {
        "colab": {
          "base_uri": "https://localhost:8080/"
        },
        "id": "LhU8jUDuuByq",
        "outputId": "9aaa8d74-69b1-4c10-f55c-e1d5c5196afb"
      },
      "execution_count": null,
      "outputs": [
        {
          "output_type": "execute_result",
          "data": {
            "text/plain": [
              "pyarrow.Table\n",
              "a: int64\n",
              "b: int64\n",
              "----\n",
              "a: [[1,1,2,3]]\n",
              "b: [[4,1,2,8]]"
            ]
          },
          "metadata": {},
          "execution_count": 20
        }
      ]
    },
    {
      "cell_type": "code",
      "source": [
        "# sort based on indices, column a in descending order\n",
        "sorted_ab = pc.sort_indices(ab, sort_keys=[('a', 'descending')])\n",
        "sorted_ab"
      ],
      "metadata": {
        "colab": {
          "base_uri": "https://localhost:8080/"
        },
        "id": "fWBNHgffvjjr",
        "outputId": "6c713b01-7ffe-4fea-f9e9-82d8cc70d509"
      },
      "execution_count": null,
      "outputs": [
        {
          "output_type": "execute_result",
          "data": {
            "text/plain": [
              "<pyarrow.lib.UInt64Array object at 0x7fd9a11778a0>\n",
              "[\n",
              "  3,\n",
              "  2,\n",
              "  0,\n",
              "  1\n",
              "]"
            ]
          },
          "metadata": {},
          "execution_count": 21
        }
      ]
    },
    {
      "cell_type": "code",
      "source": [
        "# sort based on indices, column b in ascending order\n",
        "sorted_ab = pc.sort_indices(ab, sort_keys=[('a', 'ascending')])\n",
        "sorted_ab"
      ],
      "metadata": {
        "colab": {
          "base_uri": "https://localhost:8080/"
        },
        "id": "rx69s6RMvz2X",
        "outputId": "22ce6cf5-be35-469b-ebbc-1aaa60735b01"
      },
      "execution_count": null,
      "outputs": [
        {
          "output_type": "execute_result",
          "data": {
            "text/plain": [
              "<pyarrow.lib.UInt64Array object at 0x7fd9a1177bb0>\n",
              "[\n",
              "  0,\n",
              "  1,\n",
              "  2,\n",
              "  3\n",
              "]"
            ]
          },
          "metadata": {},
          "execution_count": 22
        }
      ]
    },
    {
      "cell_type": "markdown",
      "source": [
        "## Grouped Aggregations\n",
        "*  Grouped aggregations are performed over pyarrow.Table using the pyarrow.Table.group_by() method.\n"
      ],
      "metadata": {
        "id": "b6IH7swOwFo2"
      }
    },
    {
      "cell_type": "code",
      "source": [
        "stu_marks = pa.table([\n",
        "      pa.array([\"Adya\", \"Arya\", \"Adya\", \"Arya\", \"Ari\"]),\n",
        "      pa.array([9, 8.5, 7.5, 7.5, 8]),\n",
        "], names=[\"name\", \"marks\"])\n",
        "stu_marks"
      ],
      "metadata": {
        "colab": {
          "base_uri": "https://localhost:8080/"
        },
        "id": "0xeMTEyfv8eJ",
        "outputId": "d28921b7-d462-4d99-ce00-648e771ccb75"
      },
      "execution_count": 2,
      "outputs": [
        {
          "output_type": "execute_result",
          "data": {
            "text/plain": [
              "pyarrow.Table\n",
              "name: string\n",
              "marks: double\n",
              "----\n",
              "name: [[\"Adya\",\"Arya\",\"Adya\",\"Arya\",\"Ari\"]]\n",
              "marks: [[9,8.5,7.5,7.5,8]]"
            ]
          },
          "metadata": {},
          "execution_count": 2
        }
      ]
    },
    {
      "cell_type": "code",
      "source": [
        "stu_marks.group_by(\"name\").aggregate([(\"name\", \"count\"),\n",
        "                                      (\"marks\", \"sum\")])"
      ],
      "metadata": {
        "colab": {
          "base_uri": "https://localhost:8080/",
          "height": 183
        },
        "id": "L-ohTlbX_5MI",
        "outputId": "952c6fc3-d122-4f72-b3c3-513c92ecdc0f"
      },
      "execution_count": 3,
      "outputs": [
        {
          "output_type": "error",
          "ename": "AttributeError",
          "evalue": "ignored",
          "traceback": [
            "\u001b[0;31m---------------------------------------------------------------------------\u001b[0m",
            "\u001b[0;31mAttributeError\u001b[0m                            Traceback (most recent call last)",
            "\u001b[0;32m<ipython-input-3-e3584faad0f3>\u001b[0m in \u001b[0;36m<module>\u001b[0;34m()\u001b[0m\n\u001b[0;32m----> 1\u001b[0;31m stu_marks.group_by(\"name\").aggregate([(\"name\", \"count\"),\n\u001b[0m\u001b[1;32m      2\u001b[0m                                       (\"marks\", \"sum\")])\n",
            "\u001b[0;31mAttributeError\u001b[0m: 'pyarrow.lib.Table' object has no attribute 'group_by'"
          ]
        }
      ]
    },
    {
      "cell_type": "code",
      "source": [
        "!pip install pyarrow"
      ],
      "metadata": {
        "colab": {
          "base_uri": "https://localhost:8080/"
        },
        "id": "j6vm0Lzb_535",
        "outputId": "f8547fac-edc3-49e6-db46-043aae43bb9d"
      },
      "execution_count": null,
      "outputs": [
        {
          "output_type": "stream",
          "name": "stdout",
          "text": [
            "Requirement already satisfied: pyarrow in /usr/local/lib/python3.7/dist-packages (6.0.1)\n",
            "Requirement already satisfied: numpy>=1.16.6 in /usr/local/lib/python3.7/dist-packages (from pyarrow) (1.21.5)\n"
          ]
        }
      ]
    },
    {
      "cell_type": "code",
      "source": [
        "t = pa.table([\n",
        "      pa.array([\"a\", \"a\", \"b\", \"b\", \"c\"]),\n",
        "      pa.array([1, 2, 3, 4, 5]),\n",
        "], names=[\"keys\", \"values\"])\n",
        "t.group_by(\"keys\").aggregate([\n",
        "   (\"values\", \"sum\"),\n",
        "   (\"keys\", \"count\")\n",
        "])"
      ],
      "metadata": {
        "colab": {
          "base_uri": "https://localhost:8080/",
          "height": 236
        },
        "id": "sqeU1GIGBtjH",
        "outputId": "75342c6b-eae2-4a92-8aed-bcc8e1c7ea47"
      },
      "execution_count": null,
      "outputs": [
        {
          "output_type": "error",
          "ename": "AttributeError",
          "evalue": "ignored",
          "traceback": [
            "\u001b[0;31m---------------------------------------------------------------------------\u001b[0m",
            "\u001b[0;31mAttributeError\u001b[0m                            Traceback (most recent call last)",
            "\u001b[0;32m<ipython-input-31-60555d16a0bb>\u001b[0m in \u001b[0;36m<module>\u001b[0;34m()\u001b[0m\n\u001b[1;32m      3\u001b[0m       \u001b[0mpa\u001b[0m\u001b[0;34m.\u001b[0m\u001b[0marray\u001b[0m\u001b[0;34m(\u001b[0m\u001b[0;34m[\u001b[0m\u001b[0;36m1\u001b[0m\u001b[0;34m,\u001b[0m \u001b[0;36m2\u001b[0m\u001b[0;34m,\u001b[0m \u001b[0;36m3\u001b[0m\u001b[0;34m,\u001b[0m \u001b[0;36m4\u001b[0m\u001b[0;34m,\u001b[0m \u001b[0;36m5\u001b[0m\u001b[0;34m]\u001b[0m\u001b[0;34m)\u001b[0m\u001b[0;34m,\u001b[0m\u001b[0;34m\u001b[0m\u001b[0;34m\u001b[0m\u001b[0m\n\u001b[1;32m      4\u001b[0m ], names=[\"keys\", \"values\"])\n\u001b[0;32m----> 5\u001b[0;31m t.group_by(\"keys\").aggregate([\n\u001b[0m\u001b[1;32m      6\u001b[0m    \u001b[0;34m(\u001b[0m\u001b[0;34m\"values\"\u001b[0m\u001b[0;34m,\u001b[0m \u001b[0;34m\"sum\"\u001b[0m\u001b[0;34m)\u001b[0m\u001b[0;34m,\u001b[0m\u001b[0;34m\u001b[0m\u001b[0;34m\u001b[0m\u001b[0m\n\u001b[1;32m      7\u001b[0m    \u001b[0;34m(\u001b[0m\u001b[0;34m\"keys\"\u001b[0m\u001b[0;34m,\u001b[0m \u001b[0;34m\"count\"\u001b[0m\u001b[0;34m)\u001b[0m\u001b[0;34m\u001b[0m\u001b[0;34m\u001b[0m\u001b[0m\n",
            "\u001b[0;31mAttributeError\u001b[0m: 'pyarrow.lib.Table' object has no attribute 'group_by'"
          ]
        }
      ]
    },
    {
      "cell_type": "code",
      "source": [
        ""
      ],
      "metadata": {
        "id": "Ln0hkwHJCppN"
      },
      "execution_count": null,
      "outputs": []
    }
  ]
}