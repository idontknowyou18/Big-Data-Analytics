{
  "nbformat": 4,
  "nbformat_minor": 0,
  "metadata": {
    "colab": {
      "name": "02 Read-Write Files (csv).ipynb",
      "provenance": [],
      "authorship_tag": "ABX9TyN+1e4vsxoYbCRZ/x0BYMRQ",
      "include_colab_link": true
    },
    "kernelspec": {
      "name": "python3",
      "display_name": "Python 3"
    },
    "language_info": {
      "name": "python"
    }
  },
  "cells": [
    {
      "cell_type": "markdown",
      "metadata": {
        "id": "view-in-github",
        "colab_type": "text"
      },
      "source": [
        "<a href=\"https://colab.research.google.com/github/revendrat/Big-Data-Analytics/blob/main/02_Read_Write_Files_(csv).ipynb\" target=\"_parent\"><img src=\"https://colab.research.google.com/assets/colab-badge.svg\" alt=\"Open In Colab\"/></a>"
      ]
    },
    {
      "cell_type": "markdown",
      "source": [
        "# Reading & Writing CSV Files.\n",
        "1. First perform writing a csv file.\n",
        "2. Use the pyarrow Table and write it as csv file using pyarrow.csv.write_csv()\n",
        "3. Use the csv file and read it using pa.csv.read_csv()\n"
      ],
      "metadata": {
        "id": "L49dqUwyvIXN"
      }
    },
    {
      "cell_type": "code",
      "source": [
        "# import pyarrow\n",
        "import numpy as np\n",
        "import pyarrow as pa\n",
        "# Create a pyarrow Table containing numbers from 0 to 100\n",
        "\n",
        "arr = pa.array(np.arange(100))\n",
        "table = pa.Table.from_arrays([arr], names=[\"col1\"])"
      ],
      "metadata": {
        "id": "bzdxMAiZvyhD"
      },
      "execution_count": 1,
      "outputs": []
    },
    {
      "cell_type": "code",
      "source": [
        "table"
      ],
      "metadata": {
        "colab": {
          "base_uri": "https://localhost:8080/"
        },
        "id": "ACU9_mX2fjKR",
        "outputId": "5a499b88-7484-4ba1-b5de-cb539675c476"
      },
      "execution_count": 2,
      "outputs": [
        {
          "output_type": "execute_result",
          "data": {
            "text/plain": [
              "pyarrow.Table\n",
              "col1: int64\n",
              "----\n",
              "col1: [[0,1,2,3,4,5,6,7,8,9,...,90,91,92,93,94,95,96,97,98,99]]"
            ]
          },
          "metadata": {},
          "execution_count": 2
        }
      ]
    },
    {
      "cell_type": "code",
      "source": [
        "!ls"
      ],
      "metadata": {
        "colab": {
          "base_uri": "https://localhost:8080/"
        },
        "id": "DySuOmTbfpNe",
        "outputId": "afd3ce65-ff50-4291-eaa8-c0e917ec6cb6"
      },
      "execution_count": 3,
      "outputs": [
        {
          "output_type": "stream",
          "name": "stdout",
          "text": [
            "sample_data\n"
          ]
        }
      ]
    },
    {
      "cell_type": "code",
      "execution_count": 4,
      "metadata": {
        "id": "OHBQw0APYws4"
      },
      "outputs": [],
      "source": [
        "# Write a csv file\n",
        "import pyarrow.csv\n",
        "pa.csv.write_csv(table, \"table.csv\",\n",
        "                 write_options=pa.csv.WriteOptions(include_header=True))"
      ]
    },
    {
      "cell_type": "code",
      "source": [
        "# Check if table.csv file is available\n",
        "!ls"
      ],
      "metadata": {
        "colab": {
          "base_uri": "https://localhost:8080/"
        },
        "id": "Q43ZgGSMwJOD",
        "outputId": "3f46e412-b229-4d1f-d61e-fbe1ff462661"
      },
      "execution_count": 5,
      "outputs": [
        {
          "output_type": "stream",
          "name": "stdout",
          "text": [
            "sample_data  table.csv\n"
          ]
        }
      ]
    },
    {
      "cell_type": "markdown",
      "source": [
        "## Write CSV file incrementally\n",
        "* Write data to a CSV file incrementally without keeping data in memory \n",
        "* Use pyarrow.csv.CSVWriter to write data incrementally"
      ],
      "metadata": {
        "id": "YtyEGwknwGci"
      }
    },
    {
      "cell_type": "code",
      "source": [
        "for chunk in range(10):\n",
        "  datachunk = range(chunk*10, (chunk+1)*10)\n",
        "  print(datachunk)\n",
        "  print(pa.array(datachunk))\n",
        "  #pa.array(np.arange(100))"
      ],
      "metadata": {
        "colab": {
          "base_uri": "https://localhost:8080/"
        },
        "id": "DByWwL6cg9Es",
        "outputId": "aaea4da2-1914-45aa-8e25-b9d46b7ac7c3"
      },
      "execution_count": 11,
      "outputs": [
        {
          "output_type": "stream",
          "name": "stdout",
          "text": [
            "range(0, 10)\n",
            "[\n",
            "  0,\n",
            "  1,\n",
            "  2,\n",
            "  3,\n",
            "  4,\n",
            "  5,\n",
            "  6,\n",
            "  7,\n",
            "  8,\n",
            "  9\n",
            "]\n",
            "range(10, 20)\n",
            "[\n",
            "  10,\n",
            "  11,\n",
            "  12,\n",
            "  13,\n",
            "  14,\n",
            "  15,\n",
            "  16,\n",
            "  17,\n",
            "  18,\n",
            "  19\n",
            "]\n",
            "range(20, 30)\n",
            "[\n",
            "  20,\n",
            "  21,\n",
            "  22,\n",
            "  23,\n",
            "  24,\n",
            "  25,\n",
            "  26,\n",
            "  27,\n",
            "  28,\n",
            "  29\n",
            "]\n",
            "range(30, 40)\n",
            "[\n",
            "  30,\n",
            "  31,\n",
            "  32,\n",
            "  33,\n",
            "  34,\n",
            "  35,\n",
            "  36,\n",
            "  37,\n",
            "  38,\n",
            "  39\n",
            "]\n",
            "range(40, 50)\n",
            "[\n",
            "  40,\n",
            "  41,\n",
            "  42,\n",
            "  43,\n",
            "  44,\n",
            "  45,\n",
            "  46,\n",
            "  47,\n",
            "  48,\n",
            "  49\n",
            "]\n",
            "range(50, 60)\n",
            "[\n",
            "  50,\n",
            "  51,\n",
            "  52,\n",
            "  53,\n",
            "  54,\n",
            "  55,\n",
            "  56,\n",
            "  57,\n",
            "  58,\n",
            "  59\n",
            "]\n",
            "range(60, 70)\n",
            "[\n",
            "  60,\n",
            "  61,\n",
            "  62,\n",
            "  63,\n",
            "  64,\n",
            "  65,\n",
            "  66,\n",
            "  67,\n",
            "  68,\n",
            "  69\n",
            "]\n",
            "range(70, 80)\n",
            "[\n",
            "  70,\n",
            "  71,\n",
            "  72,\n",
            "  73,\n",
            "  74,\n",
            "  75,\n",
            "  76,\n",
            "  77,\n",
            "  78,\n",
            "  79\n",
            "]\n",
            "range(80, 90)\n",
            "[\n",
            "  80,\n",
            "  81,\n",
            "  82,\n",
            "  83,\n",
            "  84,\n",
            "  85,\n",
            "  86,\n",
            "  87,\n",
            "  88,\n",
            "  89\n",
            "]\n",
            "range(90, 100)\n",
            "[\n",
            "  90,\n",
            "  91,\n",
            "  92,\n",
            "  93,\n",
            "  94,\n",
            "  95,\n",
            "  96,\n",
            "  97,\n",
            "  98,\n",
            "  99\n",
            "]\n"
          ]
        }
      ]
    },
    {
      "cell_type": "code",
      "source": [
        "for i in range(70, 80):\n",
        "  print(i)"
      ],
      "metadata": {
        "colab": {
          "base_uri": "https://localhost:8080/"
        },
        "id": "b327QvP8hKmN",
        "outputId": "10aeb5b5-36f1-4358-e617-cb491b4afa15"
      },
      "execution_count": 9,
      "outputs": [
        {
          "output_type": "stream",
          "name": "stdout",
          "text": [
            "70\n",
            "71\n",
            "72\n",
            "73\n",
            "74\n",
            "75\n",
            "76\n",
            "77\n",
            "78\n",
            "79\n"
          ]
        }
      ]
    },
    {
      "cell_type": "code",
      "source": [
        "schema = pa.schema([(\"col1\", pa.int32())])\n",
        "with pa.csv.CSVWriter(\"table_inc.csv\", schema=schema) as writer:\n",
        "    for chunk in range(10):\n",
        "        datachunk = range(chunk*10, (chunk+1)*10)\n",
        "        table = pa.Table.from_arrays([pa.array(datachunk)], schema=schema)\n",
        "        writer.write(table)"
      ],
      "metadata": {
        "id": "rfgZPAvhxxds"
      },
      "execution_count": 12,
      "outputs": []
    },
    {
      "cell_type": "code",
      "source": [
        "!ls"
      ],
      "metadata": {
        "colab": {
          "base_uri": "https://localhost:8080/"
        },
        "id": "K9-YtDuvx6fy",
        "outputId": "cf5d1660-a36b-44e0-d174-98b986540edc"
      },
      "execution_count": 13,
      "outputs": [
        {
          "output_type": "stream",
          "name": "stdout",
          "text": [
            "sample_data  table.csv\ttable_inc.csv\n"
          ]
        }
      ]
    },
    {
      "cell_type": "markdown",
      "source": [
        "## Read CSV Files\n",
        "* using pyarrow.csv.read_csv()"
      ],
      "metadata": {
        "id": "_mpedhq2iMMs"
      }
    },
    {
      "cell_type": "code",
      "source": [
        "table_csv = pa.csv.read_csv(\"table.csv\")\n",
        "table_csv"
      ],
      "metadata": {
        "colab": {
          "base_uri": "https://localhost:8080/"
        },
        "id": "q3IgDnA6hvj9",
        "outputId": "d8b61d44-0160-48a7-d8c3-59f61851e28f"
      },
      "execution_count": 14,
      "outputs": [
        {
          "output_type": "execute_result",
          "data": {
            "text/plain": [
              "pyarrow.Table\n",
              "col1: int64\n",
              "----\n",
              "col1: [[0,1,2,3,4,5,6,7,8,9,...,90,91,92,93,94,95,96,97,98,99]]"
            ]
          },
          "metadata": {},
          "execution_count": 14
        }
      ]
    },
    {
      "cell_type": "code",
      "source": [
        "table_inc_csv = pa.csv.read_csv(\"table_inc.csv\")\n",
        "table_inc_csv"
      ],
      "metadata": {
        "colab": {
          "base_uri": "https://localhost:8080/"
        },
        "id": "iSSvZcMYjLk5",
        "outputId": "f44e7c16-c740-4e96-dfff-db8ec08d2ffe"
      },
      "execution_count": 16,
      "outputs": [
        {
          "output_type": "execute_result",
          "data": {
            "text/plain": [
              "pyarrow.Table\n",
              "col1: int64\n",
              "----\n",
              "col1: [[0,1,2,3,4,5,6,7,8,9,...,90,91,92,93,94,95,96,97,98,99]]"
            ]
          },
          "metadata": {},
          "execution_count": 16
        }
      ]
    }
  ]
}